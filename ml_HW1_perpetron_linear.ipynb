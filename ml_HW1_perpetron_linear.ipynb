{
 "cells": [
  {
   "cell_type": "markdown",
   "metadata": {},
   "source": [
    "## Q1.Linear Classification"
   ]
  },
  {
   "cell_type": "code",
   "execution_count": 28,
   "metadata": {},
   "outputs": [],
   "source": [
    "from csv import reader\n",
    "# Load CSV file\n",
    "def load_csv(filename):\n",
    "    file = open(filename, \"r\")\n",
    "    lines = reader(file)\n",
    "    dataset = list(lines)\n",
    "    return dataset\n",
    "#change all data format from string to float\n",
    "def str_column_to_float(dataset, column):\n",
    "    for row in dataset:\n",
    "        row[column] = float(row[column].strip())\n",
    "\n",
    "def csv_format_chage(file_data):\n",
    "    for i in range(len(file_data[0])):\n",
    "        str_column_to_float(file_data, i)\n",
    "    return file_data\n",
    "#train_data : +1  -1 for the two types"
   ]
  },
  {
   "cell_type": "code",
   "execution_count": 29,
   "metadata": {},
   "outputs": [
    {
     "name": "stdout",
     "output_type": "stream",
     "text": [
      "done\n"
     ]
    }
   ],
   "source": [
    "#prep data\n",
    "filename=r\"C:\\Users\\gaoyu\\Desktop\\hw1\\data\\1\\train_1_5.csv\"\n",
    "filename1=r\"C:\\Users\\gaoyu\\Desktop\\hw1\\data\\1\\test_1_5.csv\"\n",
    "train_data=load_csv(filename)\n",
    "test_data=load_csv(filename1)\n",
    "train_data=csv_format_chage(train_data)\n",
    "test_data=csv_format_chage(test_data)\n",
    "print(\"done\")"
   ]
  },
  {
   "cell_type": "code",
   "execution_count": 30,
   "metadata": {},
   "outputs": [],
   "source": [
    "#assume linear classifier with offset theta=(theta1,theta2) theta0\n",
    "import numpy as np\n",
    "theta = np.array([float(0), float(0)])\n",
    "theta0=float(0)"
   ]
  },
  {
   "cell_type": "code",
   "execution_count": 31,
   "metadata": {},
   "outputs": [],
   "source": [
    "def one_iter(train_data,theta,theta0):\n",
    "    up=0\n",
    "    for i in train_data:\n",
    "        x=np.array([i[0],i[1]])#input\n",
    "        y=i[2]#label\n",
    "        pred=np.dot(x,theta)+theta0\n",
    "    \n",
    "        check=pred*y\n",
    "        #unpdate thetas\n",
    "        \n",
    "        if check<0 or check==0 :\n",
    "            up+=1\n",
    "            theta+=y*x\n",
    "            theta0+=y\n",
    "        else:\n",
    "            continue\n",
    "    return theta,theta0"
   ]
  },
  {
   "cell_type": "code",
   "execution_count": 32,
   "metadata": {},
   "outputs": [],
   "source": [
    "theta,theta0=one_iter(train_data,theta,theta0)"
   ]
  },
  {
   "cell_type": "code",
   "execution_count": 33,
   "metadata": {},
   "outputs": [
    {
     "data": {
      "text/plain": [
       "(array([-2.4483233 , -5.88190688]), 0.0)"
      ]
     },
     "execution_count": 33,
     "metadata": {},
     "output_type": "execute_result"
    }
   ],
   "source": [
    "theta,theta0"
   ]
  },
  {
   "cell_type": "code",
   "execution_count": 34,
   "metadata": {},
   "outputs": [],
   "source": [
    "def test_accuracy(test_data,theta,theta0):\n",
    "    correct=0\n",
    "    wrong=0\n",
    "    ls=[]\n",
    "    for i in test_data:\n",
    "        x=np.array([i[0],i[1]])#input\n",
    "        y=i[2]#label\n",
    "        pred=np.dot(x,theta)+theta0\n",
    "        ls.append(pred)\n",
    "        check=pred*y\n",
    "        #unpdate thetas\n",
    "        if check<0 or check==0:\n",
    "            wrong+=1\n",
    "        else:\n",
    "            correct+=1\n",
    "    accuracy=correct/(correct+wrong)\n",
    "    print(accuracy)\n",
    "      "
   ]
  },
  {
   "cell_type": "code",
   "execution_count": 35,
   "metadata": {},
   "outputs": [],
   "source": [
    "def experiment(num):\n",
    "    theta = np.array([float(0), float(0)])\n",
    "    theta0=float(0)\n",
    "    for i in range(num):\n",
    "        print(\"iteration \"+str(i)+\":\")\n",
    "        theta,theta0=one_iter(train_data,theta,theta0)\n",
    "        test_accuracy(test_data,theta,theta0)\n",
    "        print(\"\\n\")"
   ]
  },
  {
   "cell_type": "code",
   "execution_count": 36,
   "metadata": {},
   "outputs": [
    {
     "name": "stdout",
     "output_type": "stream",
     "text": [
      "iteration 0:\n",
      "0.9670658682634731\n",
      "\n",
      "\n",
      "iteration 1:\n",
      "0.9650698602794411\n",
      "\n",
      "\n",
      "iteration 2:\n",
      "0.9500998003992016\n",
      "\n",
      "\n",
      "iteration 3:\n",
      "0.969061876247505\n",
      "\n",
      "\n",
      "iteration 4:\n",
      "0.9670658682634731\n",
      "\n",
      "\n"
     ]
    }
   ],
   "source": [
    "experiment(5)"
   ]
  },
  {
   "cell_type": "code",
   "execution_count": 37,
   "metadata": {},
   "outputs": [
    {
     "name": "stdout",
     "output_type": "stream",
     "text": [
      "iteration 0:\n",
      "0.9670658682634731\n",
      "\n",
      "\n",
      "iteration 1:\n",
      "0.9650698602794411\n",
      "\n",
      "\n",
      "iteration 2:\n",
      "0.9500998003992016\n",
      "\n",
      "\n",
      "iteration 3:\n",
      "0.969061876247505\n",
      "\n",
      "\n",
      "iteration 4:\n",
      "0.9670658682634731\n",
      "\n",
      "\n",
      "iteration 5:\n",
      "0.9670658682634731\n",
      "\n",
      "\n",
      "iteration 6:\n",
      "0.9670658682634731\n",
      "\n",
      "\n",
      "iteration 7:\n",
      "0.9670658682634731\n",
      "\n",
      "\n",
      "iteration 8:\n",
      "0.9680638722554891\n",
      "\n",
      "\n",
      "iteration 9:\n",
      "0.9680638722554891\n",
      "\n",
      "\n"
     ]
    }
   ],
   "source": [
    "experiment(10)"
   ]
  },
  {
   "cell_type": "markdown",
   "metadata": {},
   "source": [
    "## Q2. Linear and polynomial regression"
   ]
  },
  {
   "cell_type": "markdown",
   "metadata": {},
   "source": [
    "### (a)"
   ]
  },
  {
   "cell_type": "code",
   "execution_count": 38,
   "metadata": {},
   "outputs": [],
   "source": [
    "import numpy as np\n",
    "filename_0=r\"C:\\Users\\gaoyu\\Desktop\\hw1\\data\\2\\hw1x.dat\"\n",
    "filename_1=r\"C:\\Users\\gaoyu\\Desktop\\hw1\\data\\2\\hw1y.dat\"\n",
    "in_data = np.genfromtxt(filename_0,)\n",
    "out_data = np.genfromtxt(filename_1,)"
   ]
  },
  {
   "cell_type": "code",
   "execution_count": 39,
   "metadata": {},
   "outputs": [
    {
     "data": {
      "image/png": "[encoded data removed]",
      "text/plain": [
       "<Figure size 432x288 with 1 Axes>"
      ]
     },
     "metadata": {},
     "output_type": "display_data"
    }
   ],
   "source": [
    "import matplotlib.pyplot as plt\n",
    "colors = (0,0,0)\n",
    "area = np.pi*3\n",
    "# Plot\n",
    "plt.scatter(in_data, out_data, s=area, c=colors, alpha=0.5)\n",
    "plt.title('Scatter plot ')\n",
    "plt.xlabel('input')\n",
    "plt.ylabel('output')\n",
    "plt.show()"
   ]
  },
  {
   "cell_type": "markdown",
   "metadata": {},
   "source": [
    "### (b)"
   ]
  },
  {
   "cell_type": "code",
   "execution_count": 40,
   "metadata": {},
   "outputs": [],
   "source": [
    "#load data (.dat)\n",
    "import numpy as np\n",
    "def dat_to_np(filename):\n",
    "    data = []\n",
    "    with open(filename, 'r') as f:\n",
    "        d = f.readlines()\n",
    "        for i in d:\n",
    "            k = i.rstrip().split(\",\")\n",
    "            for i in k:#remove the empty ones\n",
    "                try:\n",
    "                    data.append([float(i)]) \n",
    "                except:\n",
    "                    pass\n",
    "    data = np.array(data, dtype='O')\n",
    "    return data"
   ]
  },
  {
   "cell_type": "code",
   "execution_count": 41,
   "metadata": {},
   "outputs": [],
   "source": [
    "inp=dat_to_np(filename_0)\n",
    "out=dat_to_np(filename_1)"
   ]
  },
  {
   "cell_type": "code",
   "execution_count": 42,
   "metadata": {},
   "outputs": [],
   "source": [
    "N = inp.shape[0]\n",
    "new_inp = np.ones((N,2))\n",
    "new_inp[:,1:] = inp"
   ]
  },
  {
   "cell_type": "code",
   "execution_count": 43,
   "metadata": {},
   "outputs": [],
   "source": [
    "# calculate coefficients using closed-form solution\n",
    "coeffs = np.linalg.inv(new_inp.transpose().dot(new_inp)).dot(new_inp.transpose()).dot(out)"
   ]
  },
  {
   "cell_type": "code",
   "execution_count": 44,
   "metadata": {},
   "outputs": [
    {
     "data": {
      "text/plain": [
       "array([[3.244722704171865],\n",
       "       [1.7815713798289954]], dtype=object)"
      ]
     },
     "execution_count": 44,
     "metadata": {},
     "output_type": "execute_result"
    }
   ],
   "source": [
    "coeffs"
   ]
  },
  {
   "cell_type": "markdown",
   "metadata": {},
   "source": [
    "### (c) cal empirical risk"
   ]
  },
  {
   "cell_type": "code",
   "execution_count": 45,
   "metadata": {},
   "outputs": [],
   "source": [
    "risk=np.sum(np.square(out-new_inp.dot(coeffs)))/2/N"
   ]
  },
  {
   "cell_type": "code",
   "execution_count": 46,
   "metadata": {},
   "outputs": [
    {
     "data": {
      "text/plain": [
       "0.5812605752543938"
      ]
     },
     "execution_count": 46,
     "metadata": {},
     "output_type": "execute_result"
    }
   ],
   "source": [
    "risk"
   ]
  },
  {
   "cell_type": "code",
   "execution_count": 47,
   "metadata": {},
   "outputs": [],
   "source": [
    "#get predicted value\n",
    "out_pred=new_inp.dot(coeffs).flatten()"
   ]
  },
  {
   "cell_type": "code",
   "execution_count": 48,
   "metadata": {},
   "outputs": [
    {
     "data": {
      "image/png": "[encoded data removed]",
      "text/plain": [
       "<Figure size 432x288 with 1 Axes>"
      ]
     },
     "metadata": {},
     "output_type": "display_data"
    }
   ],
   "source": [
    "import matplotlib.pyplot as plt\n",
    "colors = (0,0,0)\n",
    "area = np.pi*3\n",
    "# Plot\n",
    "plt.scatter(in_data, out_data, s=area, c=colors, alpha=0.5)\n",
    "plt.plot(in_data,out_pred,color=\"red\")\n",
    "plt.title('Scatter plot with linear regression line')\n",
    "plt.xlabel('input')\n",
    "plt.ylabel('output')\n",
    "plt.show()"
   ]
  },
  {
   "cell_type": "markdown",
   "metadata": {},
   "source": [
    "### (d) gradient descent"
   ]
  },
  {
   "cell_type": "code",
   "execution_count": 49,
   "metadata": {},
   "outputs": [
    {
     "data": {
      "text/plain": [
       "array([3.5576671], dtype=object)"
      ]
     },
     "execution_count": 49,
     "metadata": {},
     "output_type": "execute_result"
    }
   ],
   "source": [
    "out[0]"
   ]
  },
  {
   "cell_type": "code",
   "execution_count": 50,
   "metadata": {},
   "outputs": [
    {
     "name": "stdout",
     "output_type": "stream",
     "text": [
      "iter 0 err:13.78687607332783\n",
      "iter 10 err:9.103876640732983\n",
      "iter 20 err:6.095921989654887\n",
      "iter 30 err:4.163437117209215\n",
      "iter 40 err:2.9214753257106914\n",
      "iter 50 err:2.12288789518859\n",
      "iter 60 err:1.6089966602020542\n",
      "iter 70 err:1.2779242931446217\n",
      "iter 80 err:1.0642613756693775\n",
      "iter 90 err:0.926012035150364\n",
      "\n",
      " weight with least loss:\n"
     ]
    },
    {
     "data": {
      "text/plain": [
       "array([2.12796385, 2.23076713])"
      ]
     },
     "execution_count": 50,
     "metadata": {},
     "output_type": "execute_result"
    }
   ],
   "source": [
    "#GD\n",
    "rate1=0.01\n",
    "num_iter1=100\n",
    "def GD(w,x,y,rate):\n",
    "    loss=0\n",
    "    grad=0\n",
    "    for i in range(N):\n",
    "        loss+=np.square(np.dot(x[i],w)-y[i][0])/2\n",
    "        #import pdb; pdb.set_trace()\n",
    "        grad=grad+rate*(np.dot(w,x[i])-y[i][0])*x[i]\n",
    "    w-=grad/N\n",
    "    err=loss/N\n",
    "    return err,w\n",
    "w=np.zeros(2)\n",
    "ls_w=[]\n",
    "ls_e=[]\n",
    "\n",
    "for i in range(num_iter1):\n",
    "    err_n,w=GD(w,new_inp,out,rate1)\n",
    "    if i%10==0:\n",
    "        print(\"iter \"+str(i)+\" err:\"+str(err_n))\n",
    "    ls_e.append(err_n)\n",
    "    ls_w.append(w)\n",
    "print(\"\\n weight with least loss:\")\n",
    "ls_w[np.argmin(ls_e)]"
   ]
  },
  {
   "cell_type": "markdown",
   "metadata": {},
   "source": [
    "### (e)SGD"
   ]
  },
  {
   "cell_type": "code",
   "execution_count": 54,
   "metadata": {},
   "outputs": [
    {
     "name": "stdout",
     "output_type": "stream",
     "text": [
      "iter 0 err:0.6543216876115884\n",
      "iter 10 err:0.5829148603873597\n",
      "iter 20 err:0.5845635949399477\n",
      "iter 30 err:0.585330199461417\n",
      "iter 40 err:0.5820634408836899\n"
     ]
    }
   ],
   "source": [
    "import random\n",
    "#use gradient descent to min risk\n",
    "#gd(UPDATE PER BATCH(All samples)) VS SGD (updates every sample)\n",
    "rate2=0.01\n",
    "num_iter2=50\n",
    "\n",
    "#shuffle \n",
    "def SGD(w,x,y,rate):\n",
    "    loss=0\n",
    "    li = list(range(N))\n",
    "    random.shuffle(li)\n",
    "    for j in range(N):\n",
    "        i=li[j]\n",
    "        w=w-rate*(np.dot(w,x[i])-y[i][0])*x[i]\n",
    "    for k in range(N):\n",
    "        loss+=np.square(np.dot(x[k],w)-y[k][0])/2    \n",
    "    dg_err=str(loss/N)\n",
    "    return dg_err,w\n",
    "w=np.zeros(2)\n",
    "for i in range(num_iter2):\n",
    "    dg_err,w=SGD(w,new_inp,out,rate2)\n",
    "    if i%10==0:\n",
    "        print(\"iter \"+str(i)+\" err:\"+str(dg_err))\n",
    "    "
   ]
  },
  {
   "cell_type": "markdown",
   "metadata": {},
   "source": [
    "#### you can reshuffle by re-run the above cell. different starting loss"
   ]
  },
  {
   "cell_type": "markdown",
   "metadata": {},
   "source": [
    "### (f)PolyRegress"
   ]
  },
  {
   "cell_type": "code",
   "execution_count": 59,
   "metadata": {},
   "outputs": [],
   "source": [
    "# func for x2,x3....xd for polynomial regression\n",
    "def get_new_inp(inp,d):\n",
    "    #add 1\n",
    "    N = inp.shape[0]\n",
    "    new_inp = np.ones((N,2))\n",
    "    new_inp[:,1:] = inp\n",
    "    #add others\n",
    "    for i in range(2,d+1):\n",
    "        add_inp=inp**i\n",
    "        new_inp=np.append(new_inp, add_inp, axis=1)\n",
    "    new_inp = new_inp.astype(float)\n",
    "    return new_inp\n",
    "    \n",
    "def PolyRegress(inp,out,d):\n",
    "    new_inp=get_new_inp(inp,d)\n",
    "    # calculate coefficients using closed-form solution\n",
    "    coeffs = np.linalg.inv(new_inp.transpose().dot(new_inp)).dot(new_inp.transpose()).dot(out)\n",
    "    return coeffs\n",
    "new_coeffs=PolyRegress(inp,out,2)"
   ]
  },
  {
   "cell_type": "markdown",
   "metadata": {},
   "source": [
    "### (g)quadratic "
   ]
  },
  {
   "cell_type": "code",
   "execution_count": 65,
   "metadata": {},
   "outputs": [
    {
     "data": {
      "text/plain": [
       "array([[3.5807691544295617],\n",
       "       [0.7834136067863395],\n",
       "       [0.4965959069864096]], dtype=object)"
      ]
     },
     "execution_count": 65,
     "metadata": {},
     "output_type": "execute_result"
    }
   ],
   "source": [
    "new_coeffs"
   ]
  },
  {
   "cell_type": "code",
   "execution_count": 61,
   "metadata": {},
   "outputs": [
    {
     "data": {
      "text/plain": [
       "0.5703016121648222"
      ]
     },
     "execution_count": 61,
     "metadata": {},
     "output_type": "execute_result"
    }
   ],
   "source": [
    "#cal new errors\n",
    "#cal empirical risk\n",
    "new_2_inp=get_new_inp(inp,2)\n",
    "new_risk=np.sum(np.square(out-new_2_inp.dot(new_coeffs)))/2/N\n",
    "new_risk#training error:\n",
    "#old risk is 0.5812605752543938, lowered"
   ]
  },
  {
   "cell_type": "code",
   "execution_count": 63,
   "metadata": {},
   "outputs": [
    {
     "data": {
      "image/png": "[encoded data removed]",
      "text/plain": [
       "<Figure size 432x288 with 1 Axes>"
      ]
     },
     "metadata": {},
     "output_type": "display_data"
    }
   ],
   "source": [
    "#get predicted value\n",
    "new_out_pred=new_2_inp.dot(new_coeffs).flatten()\n",
    "#plot graph--4th order\n",
    "colors = (0,0,0)\n",
    "area = np.pi*3\n",
    "# Plot\n",
    "plt.scatter(in_data, out_data, s=area, c=colors, alpha=0.5)\n",
    "plt.plot(in_data,out_pred,color=\"red\")\n",
    "plt.plot(in_data,new_out_pred,color=\"green\")#quadratic\n",
    "plt.title('Scatter plot with regression lines')\n",
    "plt.xlabel('input')\n",
    "plt.ylabel('output')\n",
    "plt.show()"
   ]
  },
  {
   "cell_type": "markdown",
   "metadata": {},
   "source": [
    "#### quadratic is a better fit.\n",
    "#### after iterations: no increase in error for 2nd to 9th order\n",
    "#### but error increases at 11th error"
   ]
  },
  {
   "cell_type": "code",
   "execution_count": 84,
   "metadata": {},
   "outputs": [],
   "source": [
    "def repeat(inp,out,d1,d2):\n",
    "    rl=[]\n",
    "    for i in range(d1,d2+1):\n",
    "        new_coeffs=PolyRegress(inp,out,i)\n",
    "        #cal empirical risk\n",
    "        new_inp=get_new_inp(inp,i)\n",
    "        new_risk=np.sum(np.square(out-new_inp.dot(new_coeffs)))/2/N\n",
    "        #pred value\n",
    "        print(str(i)+\"th order has erorr \"+str(new_risk))\n",
    "        rl.append(new_risk)\n",
    "    return rl"
   ]
  },
  {
   "cell_type": "code",
   "execution_count": 87,
   "metadata": {},
   "outputs": [
    {
     "name": "stdout",
     "output_type": "stream",
     "text": [
      "3th order has erorr 0.570084436469135\n",
      "4th order has erorr 0.5646163879286429\n",
      "5th order has erorr 0.56389681847492\n",
      "6th order has erorr 0.5613433038902962\n",
      "7th order has erorr 0.5562352515821012\n",
      "8th order has erorr 0.5537805799554211\n",
      "9th order has erorr 0.5529231091067474\n",
      "10th order has erorr 0.5526264028125286\n",
      "11th order has erorr 0.6936293161351056\n",
      "12th order has erorr 1.067316225124267\n",
      "13th order has erorr 7.566036384319469\n",
      "14th order has erorr 2.4772601465948965\n",
      "15th order has erorr 32.59930765288999\n",
      "16th order has erorr 121.2362581211491\n",
      "17th order has erorr 185.1430308776857\n",
      "18th order has erorr 360.2420939170471\n",
      "19th order has erorr 2574.871433745225\n",
      "20th order has erorr 4889.087783540116\n",
      "21th order has erorr 361.7913421960336\n",
      "22th order has erorr 11501.645391914211\n",
      "23th order has erorr 177675.86174917\n",
      "24th order has erorr 93765.28964385578\n",
      "25th order has erorr 3513.721401166445\n",
      "26th order has erorr 161722.19141819174\n",
      "27th order has erorr 106.77621304598674\n",
      "28th order has erorr 37339.50804707457\n",
      "29th order has erorr 472062.9536049176\n",
      "30th order has erorr 16058323.69626613\n",
      "31th order has erorr 1014231.2298084577\n",
      "32th order has erorr 79391.88154826693\n",
      "33th order has erorr 8129591.786679953\n",
      "34th order has erorr 367643.108838923\n",
      "35th order has erorr 29732942.122084055\n",
      "36th order has erorr 2619699.6859311126\n",
      "37th order has erorr 7390558.746802113\n",
      "38th order has erorr 8121009.803620571\n",
      "39th order has erorr 13755585111.721373\n",
      "40th order has erorr 15889977657.173101\n"
     ]
    },
    {
     "data": {
      "text/plain": [
       "[<matplotlib.lines.Line2D at 0x1a382ef2ba8>]"
      ]
     },
     "execution_count": 87,
     "metadata": {},
     "output_type": "execute_result"
    },
    {
     "data": {
      "image/png": "[encoded data removed]",
      "text/plain": [
       "<Figure size 432x288 with 1 Axes>"
      ]
     },
     "metadata": {},
     "output_type": "display_data"
    }
   ],
   "source": [
    "rl=repeat(inp,out,3,40)\n",
    "plt.plot(list(range(40-3+1)),rl)"
   ]
  },
  {
   "cell_type": "code",
   "execution_count": 75,
   "metadata": {},
   "outputs": [
    {
     "name": "stdout",
     "output_type": "stream",
     "text": [
      "3th order has erorr 0.570084436469135\n",
      "4th order has erorr 0.5646163879286429\n",
      "5th order has erorr 0.56389681847492\n",
      "6th order has erorr 0.5613433038902962\n",
      "7th order has erorr 0.5562352515821012\n",
      "8th order has erorr 0.5537805799554211\n",
      "9th order has erorr 0.5529231091067474\n"
     ]
    }
   ],
   "source": [
    "record=repeat(inp,out,3,9)\n",
    "#the error turns worse at 11th iteration"
   ]
  },
  {
   "cell_type": "code",
   "execution_count": 76,
   "metadata": {},
   "outputs": [
    {
     "name": "stdout",
     "output_type": "stream",
     "text": [
      "9th order has erorr 0.5529231091067474\n",
      "10th order has erorr 0.5526264028125286\n",
      "11th order has erorr 0.6936293161351056\n",
      "12th order has erorr 1.067316225124267\n",
      "13th order has erorr 7.566036384319469\n",
      "14th order has erorr 2.4772601465948965\n",
      "15th order has erorr 32.59930765288999\n"
     ]
    }
   ],
   "source": [
    "record=repeat(inp,out,9,15)#11th order first decrease"
   ]
  },
  {
   "cell_type": "markdown",
   "metadata": {},
   "source": [
    "## Q3 Ridge regression"
   ]
  },
  {
   "cell_type": "markdown",
   "metadata": {},
   "source": [
    "### (a)"
   ]
  },
  {
   "cell_type": "code",
   "execution_count": 133,
   "metadata": {},
   "outputs": [],
   "source": [
    "import pandas as pd\n",
    "filename_3=r\"C:\\Users\\gaoyu\\Desktop\\hw1\\data\\3\\hw1_ridge_x.dat\"\n",
    "filename_4=r\"C:\\Users\\gaoyu\\Desktop\\hw1\\data\\3\\hw1_ridge_y.dat\""
   ]
  },
  {
   "cell_type": "code",
   "execution_count": 134,
   "metadata": {},
   "outputs": [],
   "source": [
    "def dat_to_np2(filename):\n",
    "    data = []\n",
    "    with open(filename, 'r') as f:\n",
    "        d = f.readlines()\n",
    "        for i in d:\n",
    "            line=[]\n",
    "            k = i.rstrip().split(\",\")\n",
    "            for i in k:#remove the empty ones\n",
    "                try:\n",
    "                    line.append([float(i)]) \n",
    "                except:\n",
    "                    pass\n",
    "            data.append(line)\n",
    "    data = np.array(data, dtype='O')\n",
    "    return data.reshape(data.shape[0],data.shape[1])\n",
    "x3=dat_to_np2(filename_3)\n",
    "y3=dat_to_np2(filename_4)"
   ]
  },
  {
   "cell_type": "code",
   "execution_count": 135,
   "metadata": {},
   "outputs": [],
   "source": [
    "#split val and train\n",
    "x_val=x3[0:10]\n",
    "y_val=y3[0:10]\n",
    "x_t=x3[-40:]\n",
    "y_t=y3[-40:]"
   ]
  },
  {
   "cell_type": "code",
   "execution_count": 136,
   "metadata": {},
   "outputs": [
    {
     "data": {
      "text/plain": [
       "array([[-0.5793982548397285],\n",
       "       [1.1503302802459854],\n",
       "       [0.049341217635612535],\n",
       "       [-1.5986789607179286]], dtype=object)"
      ]
     },
     "execution_count": 136,
     "metadata": {},
     "output_type": "execute_result"
    }
   ],
   "source": [
    "def regu_coeff(x_t,y_t,regu):\n",
    "    k=x_t.T.dot(x_t)\n",
    "    N=x_t.shape[0]\n",
    "    temp=regu*np.eye(k.shape[0],dtype=float)*N+k\n",
    "    temp=temp.astype(float)\n",
    "    re_coeff=np.linalg.inv(temp).dot(x_t.T).dot(y_t)\n",
    "    return re_coeff\n",
    "relu=0.15\n",
    "regu_coeff(x_t,y_t,relu)"
   ]
  },
  {
   "cell_type": "markdown",
   "metadata": {},
   "source": [
    "### (b)"
   ]
  },
  {
   "cell_type": "code",
   "execution_count": 142,
   "metadata": {},
   "outputs": [],
   "source": [
    "def test():\n",
    "    v_ls=[]\n",
    "    t_ls=[]\n",
    "    regu_ls=[]\n",
    "    order=np.arange(0,-5.1,-0.1)\n",
    "    for i in order:\n",
    "        regu=10**i\n",
    "        risk_val=np.sum(np.square( x_val.dot(regu_coeff(x_t,y_t,regu))-y_val)  )/2/x_val.shape[0]\n",
    "        risk_t=np.sum(np.square( x_t.dot(regu_coeff(x_t,y_t,regu))-y_t ))/2/x_t.shape[0]\n",
    "        v_ls.append(risk_val)\n",
    "        t_ls.append(risk_t)\n",
    "        regu_ls.append(i)\n",
    "    return [v_ls,t_ls,regu_ls]"
   ]
  },
  {
   "cell_type": "code",
   "execution_count": 144,
   "metadata": {},
   "outputs": [],
   "source": [
    "losses=test()"
   ]
  },
  {
   "cell_type": "code",
   "execution_count": 145,
   "metadata": {},
   "outputs": [
    {
     "data": {
      "text/plain": [
       "[<matplotlib.lines.Line2D at 0x1a384f00a20>]"
      ]
     },
     "execution_count": 145,
     "metadata": {},
     "output_type": "execute_result"
    },
    {
     "data": {
      "image/png": "[encoded data removed]",
      "text/plain": [
       "<Figure size 432x288 with 1 Axes>"
      ]
     },
     "metadata": {},
     "output_type": "display_data"
    }
   ],
   "source": [
    "import matplotlib.pyplot as plt\n",
    "plt.plot(losses[2],np.log(losses[0]))#valia\n",
    "plt.plot(losses[2],np.log(losses[1]))#train"
   ]
  },
  {
   "cell_type": "markdown",
   "metadata": {},
   "source": [
    "#### below gives smallest validation loss"
   ]
  },
  {
   "cell_type": "code",
   "execution_count": 147,
   "metadata": {},
   "outputs": [
    {
     "data": {
      "text/plain": [
       "0.012589254117941668"
      ]
     },
     "execution_count": 147,
     "metadata": {},
     "output_type": "execute_result"
    }
   ],
   "source": [
    "10**(losses[2][np.argmin(losses[0])])"
   ]
  },
  {
   "cell_type": "code",
   "execution_count": null,
   "metadata": {},
   "outputs": [],
   "source": []
  }
 ],
 "metadata": {
  "kernelspec": {
   "display_name": "Python 3",
   "language": "python",
   "name": "python3"
  },
  "language_info": {
   "codemirror_mode": {
    "name": "ipython",
    "version": 3
   },
   "file_extension": ".py",
   "mimetype": "text/x-python",
   "name": "python",
   "nbconvert_exporter": "python",
   "pygments_lexer": "ipython3",
   "version": "3.6.4"
  }
 },
 "nbformat": 4,
 "nbformat_minor": 2
}
