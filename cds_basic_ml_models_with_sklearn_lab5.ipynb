{
 "cells": [
  {
   "cell_type": "markdown",
   "metadata": {
    "colab_type": "text",
    "id": "0CD5FUmV-JlU"
   },
   "source": [
    "# Classification models \n",
    "CDS Class, prepared by Prof. Dorien Herremans, Cheuk Kin Wai, and Yin-Jyun Luo. \n",
    "\n",
    "\n",
    "---\n",
    "\n",
    "\n",
    "\n",
    "\n",
    "\n",
    "\n",
    "Let's start by loading the necessary libraries for this class. The main libraries used are numpy and pandas for data handling and [scikit learn (sklearn)](https://scikit-learn.org/stable/) for classification models. \n"
   ]
  },
  {
   "cell_type": "code",
   "execution_count": 1,
   "metadata": {
    "colab": {},
    "colab_type": "code",
    "id": "pRVVQV0NQk6I"
   },
   "outputs": [],
   "source": [
    "import matplotlib.pyplot  as  plt  #  plotting  \n",
    "import numpy as np # library for numerical calculations \n",
    "import pandas as pd # library for reading csv files"
   ]
  },
  {
   "cell_type": "markdown",
   "metadata": {
    "colab_type": "text",
    "id": "cyJ9gKmxQz4G"
   },
   "source": [
    "## Walkthrough example of different classification methods\n",
    "\n",
    "To become familiar with the classification models, please follow the instructions below. \n",
    "\n",
    "### Problem description and preparing dataset\n",
    "\n",
    "Let's start doing some classification on the Heart Disease dataset from Kaggle at https://www.kaggle.com/ronitf/heart-disease-uci. The dataset has 303 patients and 13 features for each patient. \n",
    "\n",
    "You can find the dataset at the link above, or directly load it like shown below: \n"
   ]
  },
  {
   "cell_type": "code",
   "execution_count": 2,
   "metadata": {
    "colab": {},
    "colab_type": "code",
    "id": "5BNccumSb8iY"
   },
   "outputs": [
    {
     "data": {
      "text/html": [
       "<div>\n",
       "<style scoped>\n",
       "    .dataframe tbody tr th:only-of-type {\n",
       "        vertical-align: middle;\n",
       "    }\n",
       "\n",
       "    .dataframe tbody tr th {\n",
       "        vertical-align: top;\n",
       "    }\n",
       "\n",
       "    .dataframe thead th {\n",
       "        text-align: right;\n",
       "    }\n",
       "</style>\n",
       "<table border=\"1\" class=\"dataframe\">\n",
       "  <thead>\n",
       "    <tr style=\"text-align: right;\">\n",
       "      <th></th>\n",
       "      <th>age</th>\n",
       "      <th>sex</th>\n",
       "      <th>cp</th>\n",
       "      <th>trestbps</th>\n",
       "      <th>chol</th>\n",
       "      <th>fbs</th>\n",
       "      <th>restecg</th>\n",
       "      <th>thalach</th>\n",
       "      <th>exang</th>\n",
       "      <th>oldpeak</th>\n",
       "      <th>slope</th>\n",
       "      <th>ca</th>\n",
       "      <th>thal</th>\n",
       "      <th>target</th>\n",
       "    </tr>\n",
       "  </thead>\n",
       "  <tbody>\n",
       "    <tr>\n",
       "      <th>0</th>\n",
       "      <td>63</td>\n",
       "      <td>1</td>\n",
       "      <td>3</td>\n",
       "      <td>145</td>\n",
       "      <td>233</td>\n",
       "      <td>1</td>\n",
       "      <td>0</td>\n",
       "      <td>150</td>\n",
       "      <td>0</td>\n",
       "      <td>2.3</td>\n",
       "      <td>0</td>\n",
       "      <td>0</td>\n",
       "      <td>1</td>\n",
       "      <td>1</td>\n",
       "    </tr>\n",
       "    <tr>\n",
       "      <th>1</th>\n",
       "      <td>37</td>\n",
       "      <td>1</td>\n",
       "      <td>2</td>\n",
       "      <td>130</td>\n",
       "      <td>250</td>\n",
       "      <td>0</td>\n",
       "      <td>1</td>\n",
       "      <td>187</td>\n",
       "      <td>0</td>\n",
       "      <td>3.5</td>\n",
       "      <td>0</td>\n",
       "      <td>0</td>\n",
       "      <td>2</td>\n",
       "      <td>1</td>\n",
       "    </tr>\n",
       "    <tr>\n",
       "      <th>2</th>\n",
       "      <td>41</td>\n",
       "      <td>0</td>\n",
       "      <td>1</td>\n",
       "      <td>130</td>\n",
       "      <td>204</td>\n",
       "      <td>0</td>\n",
       "      <td>0</td>\n",
       "      <td>172</td>\n",
       "      <td>0</td>\n",
       "      <td>1.4</td>\n",
       "      <td>2</td>\n",
       "      <td>0</td>\n",
       "      <td>2</td>\n",
       "      <td>1</td>\n",
       "    </tr>\n",
       "    <tr>\n",
       "      <th>3</th>\n",
       "      <td>56</td>\n",
       "      <td>1</td>\n",
       "      <td>1</td>\n",
       "      <td>120</td>\n",
       "      <td>236</td>\n",
       "      <td>0</td>\n",
       "      <td>1</td>\n",
       "      <td>178</td>\n",
       "      <td>0</td>\n",
       "      <td>0.8</td>\n",
       "      <td>2</td>\n",
       "      <td>0</td>\n",
       "      <td>2</td>\n",
       "      <td>1</td>\n",
       "    </tr>\n",
       "    <tr>\n",
       "      <th>4</th>\n",
       "      <td>57</td>\n",
       "      <td>0</td>\n",
       "      <td>0</td>\n",
       "      <td>120</td>\n",
       "      <td>354</td>\n",
       "      <td>0</td>\n",
       "      <td>1</td>\n",
       "      <td>163</td>\n",
       "      <td>1</td>\n",
       "      <td>0.6</td>\n",
       "      <td>2</td>\n",
       "      <td>0</td>\n",
       "      <td>2</td>\n",
       "      <td>1</td>\n",
       "    </tr>\n",
       "  </tbody>\n",
       "</table>\n",
       "</div>"
      ],
      "text/plain": [
       "   age  sex  cp  trestbps  chol  fbs  restecg  thalach  exang  oldpeak  slope  \\\n",
       "0   63    1   3       145   233    1        0      150      0      2.3      0   \n",
       "1   37    1   2       130   250    0        1      187      0      3.5      0   \n",
       "2   41    0   1       130   204    0        0      172      0      1.4      2   \n",
       "3   56    1   1       120   236    0        1      178      0      0.8      2   \n",
       "4   57    0   0       120   354    0        1      163      1      0.6      2   \n",
       "\n",
       "   ca  thal  target  \n",
       "0   0     1       1  \n",
       "1   0     2       1  \n",
       "2   0     2       1  \n",
       "3   0     2       1  \n",
       "4   0     2       1  "
      ]
     },
     "execution_count": 2,
     "metadata": {},
     "output_type": "execute_result"
    }
   ],
   "source": [
    "file=r\"C:\\Users\\gaoyu\\Downloads\\heart.csv\"\n",
    "data  =  pd.read_csv(file)  #  loading  dataset\n",
    "data.head() #"
   ]
  },
  {
   "cell_type": "markdown",
   "metadata": {
    "colab_type": "text",
    "id": "tNl7rqzW6EQ8"
   },
   "source": [
    "Let's make the data nicer. Since the column headers are a bit heard to read, we can override them to provide more easy to understand labels:"
   ]
  },
  {
   "cell_type": "code",
   "execution_count": 3,
   "metadata": {
    "colab": {},
    "colab_type": "code",
    "id": "9uwN838fePM2"
   },
   "outputs": [],
   "source": [
    "# Give a better name to each column\n",
    "data.columns = ['age', 'sex', 'chest_pain_type', 'resting_blood_pressure', 'cholesterol', 'fasting_blood_sugar', 'rest_ecg', 'max_heart_rate_achieved',\n",
    "       'exercise_induced_angina', 'st_depression', 'st_slope', 'num_major_vessels', 'thalassemia', 'target']"
   ]
  },
  {
   "cell_type": "markdown",
   "metadata": {
    "colab_type": "text",
    "id": "_BzbbuFFm3-L"
   },
   "source": [
    "Let's check how balanced our dataset is. "
   ]
  },
  {
   "cell_type": "code",
   "execution_count": 4,
   "metadata": {
    "colab": {},
    "colab_type": "code",
    "id": "OONYrA4bm3zN"
   },
   "outputs": [
    {
     "data": {
      "image/png": "[encoded data removed]",
      "text/plain": [
       "<Figure size 432x288 with 1 Axes>"
      ]
     },
     "metadata": {},
     "output_type": "display_data"
    }
   ],
   "source": [
    "import seaborn as sns\n",
    "import matplotlib.pyplot as plt\n",
    "#breakdown by class\n",
    "sns.countplot(x=\"target\",  data=data,  palette=\"muted\");"
   ]
  },
  {
   "cell_type": "markdown",
   "metadata": {
    "colab_type": "text",
    "id": "PO77DQcZKFS_"
   },
   "source": [
    "It's almost balanced, but not entirely, so during evaluation, let's make sure to check F1 values and AUC instead of just accuracy. \n",
    "\n",
    "We also need to make sure that the system recognises our data as being categorical appropriately. "
   ]
  },
  {
   "cell_type": "code",
   "execution_count": 5,
   "metadata": {
    "colab": {},
    "colab_type": "code",
    "id": "_79UlghVU0ed"
   },
   "outputs": [
    {
     "data": {
      "text/plain": [
       "age                          int64\n",
       "sex                          int64\n",
       "chest_pain_type              int64\n",
       "resting_blood_pressure       int64\n",
       "cholesterol                  int64\n",
       "fasting_blood_sugar          int64\n",
       "rest_ecg                     int64\n",
       "max_heart_rate_achieved      int64\n",
       "exercise_induced_angina      int64\n",
       "st_depression              float64\n",
       "st_slope                     int64\n",
       "num_major_vessels            int64\n",
       "thalassemia                  int64\n",
       "target                       int64\n",
       "dtype: object"
      ]
     },
     "execution_count": 5,
     "metadata": {},
     "output_type": "execute_result"
    }
   ],
   "source": [
    "data.dtypes"
   ]
  },
  {
   "cell_type": "markdown",
   "metadata": {
    "colab_type": "text",
    "id": "hzs1jAItU0lX"
   },
   "source": [
    "This looks good. Everything is an integer, except for the continuous variables. In the case where categories are stored as strings, you need to correct this with: \n",
    "\n",
    "data['Class'] = pd.Categorical(data['Class'])\n",
    "\n",
    "data['Class'] = data['Class'].cat.codes\n",
    "\n",
    "In our case all is well. "
   ]
  },
  {
   "cell_type": "markdown",
   "metadata": {
    "colab_type": "text",
    "id": "XinuntO4z3Q0"
   },
   "source": [
    "Looking at the header, the prediction task is now clear: we need to predict if target = 1, meaning heart disease is present. \n",
    "\n",
    "To properly evaluate models, we **create a test and training set** with 30% split using train_test_split. "
   ]
  },
  {
   "cell_type": "code",
   "execution_count": 6,
   "metadata": {
    "colab": {},
    "colab_type": "code",
    "id": "EX4WMdCUh5z6"
   },
   "outputs": [],
   "source": [
    "from sklearn.model_selection import train_test_split\n",
    "# data = pd.get_dummies(data, drop_first=True)\n",
    "# We  split the data up into a test set and a training set, 30 - 70        # train_test_split\n",
    "# First argument: x data is all data without class column     # Second argument:\tthis is the class label column\n",
    "# Random state = 0: ensures the train and test splitting is deterministic. #Otherwise every student would get a different train test split.\n",
    "X_train,  X_test,  y_train,  y_test  =  train_test_split(data.drop('target',1),\n",
    "data['target'], test_size=0.3, random_state=0)\n"
   ]
  },
  {
   "cell_type": "markdown",
   "metadata": {
    "colab_type": "text",
    "id": "o-Q1FrzvVV7Q"
   },
   "source": [
    "Most classifiers will work best if the data is normalized. We can easily do this by using the MinMaxScaler fuction. \n"
   ]
  },
  {
   "cell_type": "code",
   "execution_count": 7,
   "metadata": {
    "colab": {},
    "colab_type": "code",
    "id": "a_E3AMIc9tzI"
   },
   "outputs": [],
   "source": [
    "from sklearn.preprocessing import MinMaxScaler\n",
    "\n",
    "# define a new scaler:\n",
    "x_scaler = MinMaxScaler()\n",
    "\n",
    "# fit the normalization on the training set:\n",
    "x_scaler.fit(X_train)\n",
    "\n",
    "# then create new and normalized training/test sets: \n",
    "X_train_norm = x_scaler.transform(X_train) \n",
    "X_test_norm = x_scaler.transform(X_test)\n"
   ]
  },
  {
   "cell_type": "markdown",
   "metadata": {
    "colab_type": "text",
    "id": "5S9UfiOQT4ml"
   },
   "source": [
    "### Model 1: Decision Trees"
   ]
  },
  {
   "cell_type": "markdown",
   "metadata": {
    "colab_type": "text",
    "id": "KYOgQbN1UIgs"
   },
   "source": [
    "Let's import the sklearn library for CART decision trees, and define a variable 'model' to hold our CART tree model. We can specify some pruning/early stopping parameters so that the size of the tree can be adjusted. "
   ]
  },
  {
   "cell_type": "code",
   "execution_count": 8,
   "metadata": {
    "colab": {},
    "colab_type": "code",
    "id": "Xrgj22A9T4bt"
   },
   "outputs": [],
   "source": [
    "# from sklearn.tree import DecisionTreeClassifier\n",
    "from sklearn import tree\n",
    "\n",
    "model  =  tree.DecisionTreeClassifier(max_depth=3,  min_samples_leaf=1)\n",
    "# Using default parameters\n",
    "\n"
   ]
  },
  {
   "cell_type": "markdown",
   "metadata": {
    "colab_type": "text",
    "id": "gjfBdBecT4QN"
   },
   "source": [
    "Let's train the model by passing it our training data X_train and labels y_train. Note that decision trees don't need normalized data, in this case it may be easier to understand with the original data (so we are using X_train, not X_train_norm as we do in the other models): "
   ]
  },
  {
   "cell_type": "code",
   "execution_count": 9,
   "metadata": {
    "colab": {},
    "colab_type": "code",
    "id": "wlmTUjBFT3pN"
   },
   "outputs": [
    {
     "data": {
      "text/plain": [
       "DecisionTreeClassifier(class_weight=None, criterion='gini', max_depth=3,\n",
       "                       max_features=None, max_leaf_nodes=None,\n",
       "                       min_impurity_decrease=0.0, min_impurity_split=None,\n",
       "                       min_samples_leaf=1, min_samples_split=2,\n",
       "                       min_weight_fraction_leaf=0.0, presort=False,\n",
       "                       random_state=None, splitter='best')"
      ]
     },
     "execution_count": 9,
     "metadata": {},
     "output_type": "execute_result"
    }
   ],
   "source": [
    "model.fit(X_train, y_train) "
   ]
  },
  {
   "cell_type": "markdown",
   "metadata": {
    "colab_type": "text",
    "id": "omH5Mwu_UMSd"
   },
   "source": [
    "Notice how the options above let you tweek the classifier (e.g. criterion Gini coefficient). This model trained really fast! But how good is it?\n",
    "\n",
    "I've emphasized the importance of evaluating models using multiple metrics in class. Let's **define a function called\n",
    "evaluate_on_training_set, which will print out all of out metrics**. This will save us some time throughout the lab. "
   ]
  },
  {
   "cell_type": "code",
   "execution_count": 10,
   "metadata": {
    "colab": {},
    "colab_type": "code",
    "id": "GwqSjJrgXYvg"
   },
   "outputs": [],
   "source": [
    "from sklearn.metrics import classification_report, confusion_matrix\n",
    "from sklearn.metrics import roc_curve, roc_auc_score\n",
    "\n",
    "def evaluate_on_training_set(y_test, y_pred):\n",
    "    # Calculate AUC\n",
    "    print(\"AUC  is:  \",  roc_auc_score(y_test,  y_pred))\n",
    "\n",
    "\n",
    "    # print out recall and precision\n",
    "    print(classification_report(y_test, y_pred))\n",
    "\n",
    "    # print out confusion matrix\n",
    "    print(\"Confusion Matrix: \\n\", confusion_matrix(y_test, y_pred))\n",
    "\n",
    "    # # calculate points for ROC curve\n",
    "    fpr, tpr, thresholds = roc_curve(y_test, y_pred)\n",
    "\n",
    "    # Plot ROC curve\n",
    "    plt.plot(fpr,  tpr,  label='ROC  curve  (area  =%0.3f)'%roc_auc_score(y_test,  y_pred)) \n",
    "    plt.plot([0,  1],  [0,  1],  'k--')#  random  predictions  curve\n",
    "    plt.xlim([0.0, 1.0])\n",
    "    plt.ylim([0.0, 1.0])\n",
    "    plt.xlabel('False  Positive  Rate  or  (1  -  Specifity)') \n",
    "    plt.ylabel('True  Positive  Rate  or  (Sensitivity)') \n",
    "    plt.title('Receiver  Operating  Characteristic')\n"
   ]
  },
  {
   "cell_type": "markdown",
   "metadata": {
    "colab_type": "text",
    "id": "w6oR4zwwYWTg"
   },
   "source": [
    "Using this new function we can now make predictions for our newly trained model 'model' and get the evaluation metrics: \n"
   ]
  },
  {
   "cell_type": "code",
   "execution_count": 11,
   "metadata": {
    "colab": {},
    "colab_type": "code",
    "id": "CAZ4xBNMUOdU"
   },
   "outputs": [
    {
     "name": "stdout",
     "output_type": "stream",
     "text": [
      "AUC  is:   0.8104448742746615\n",
      "              precision    recall  f1-score   support\n",
      "\n",
      "           0       0.86      0.73      0.79        44\n",
      "           1       0.78      0.89      0.83        47\n",
      "\n",
      "    accuracy                           0.81        91\n",
      "   macro avg       0.82      0.81      0.81        91\n",
      "weighted avg       0.82      0.81      0.81        91\n",
      "\n",
      "Confusion Matrix: \n",
      " [[32 12]\n",
      " [ 5 42]]\n"
     ]
    },
    {
     "data": {
      "image/png": "[encoded data removed]",
      "text/plain": [
       "<Figure size 432x288 with 1 Axes>"
      ]
     },
     "metadata": {},
     "output_type": "display_data"
    }
   ],
   "source": [
    "y_pred  =  model.predict(X_test)  #  Predicting  labels  for  our  test  set  using  model\n",
    "evaluate_on_training_set(y_test,  y_pred)  \n"
   ]
  },
  {
   "cell_type": "markdown",
   "metadata": {
    "colab_type": "text",
    "id": "caPHKHy7wq54"
   },
   "source": [
    "Finally, what does the actual tree look like? You can experiment yourself how the tree (and the accuracy) changes when we set different pruning parameters. "
   ]
  },
  {
   "cell_type": "code",
   "execution_count": 12,
   "metadata": {
    "colab": {},
    "colab_type": "code",
    "id": "owDNZ2-PwJvY",
    "scrolled": true
   },
   "outputs": [
    {
     "data": {
      "text/plain": [
       "[Text(394.1,576.905,'X[2] <= 0.5\\ngini = 0.494\\nsamples = 212\\nvalue = [94, 118]'),\n",
       " Text(197.05,412.075,'X[11] <= 0.5\\ngini = 0.415\\nsamples = 102\\nvalue = [72, 30]'),\n",
       " Text(98.525,247.245,'X[12] <= 2.5\\ngini = 0.492\\nsamples = 48\\nvalue = [21, 27]'),\n",
       " Text(49.2625,82.415,'gini = 0.328\\nsamples = 29\\nvalue = [6, 23]'),\n",
       " Text(147.788,82.415,'gini = 0.332\\nsamples = 19\\nvalue = [15, 4]'),\n",
       " Text(295.575,247.245,'X[0] <= 63.5\\ngini = 0.105\\nsamples = 54\\nvalue = [51, 3]'),\n",
       " Text(246.312,82.415,'gini = 0.0\\nsamples = 43\\nvalue = [43, 0]'),\n",
       " Text(344.838,82.415,'gini = 0.397\\nsamples = 11\\nvalue = [8, 3]'),\n",
       " Text(591.15,412.075,'X[9] <= 1.95\\ngini = 0.32\\nsamples = 110\\nvalue = [22, 88]'),\n",
       " Text(492.625,247.245,'X[7] <= 152.5\\ngini = 0.255\\nsamples = 100\\nvalue = [15, 85]'),\n",
       " Text(443.363,82.415,'gini = 0.438\\nsamples = 34\\nvalue = [11, 23]'),\n",
       " Text(541.888,82.415,'gini = 0.114\\nsamples = 66\\nvalue = [4, 62]'),\n",
       " Text(689.675,247.245,'X[10] <= 0.5\\ngini = 0.42\\nsamples = 10\\nvalue = [7, 3]'),\n",
       " Text(640.413,82.415,'gini = 0.0\\nsamples = 3\\nvalue = [0, 3]'),\n",
       " Text(738.938,82.415,'gini = 0.0\\nsamples = 7\\nvalue = [7, 0]')]"
      ]
     },
     "execution_count": 12,
     "metadata": {},
     "output_type": "execute_result"
    },
    {
     "data": {
      "image/png": "[encoded data removed]",
      "text/plain": [
       "<Figure size 1008x864 with 1 Axes>"
      ]
     },
     "metadata": {},
     "output_type": "display_data"
    }
   ],
   "source": [
    "plt.figure(figsize=(14,12)) \n",
    "tree.plot_tree(model)"
   ]
  },
  {
   "cell_type": "markdown",
   "metadata": {
    "colab_type": "text",
    "id": "ej4HeSRpAbyV"
   },
   "source": [
    "### Model 2: K Nearest Neighbor Classifier\n",
    "\n",
    "Let's explore the kNN algorithm. As you've seen in class. It's a very simple algorithm, however, it needs a lot of time to compute all distances. \n",
    "\n",
    "Similar to before, we first load the library and define the model with parameters (here only the parameter k is needed). "
   ]
  },
  {
   "cell_type": "code",
   "execution_count": 13,
   "metadata": {
    "colab": {},
    "colab_type": "code",
    "id": "n50Cahe4Abyu"
   },
   "outputs": [],
   "source": [
    "from sklearn.neighbors import KNeighborsClassifier\n",
    "\n",
    "model = KNeighborsClassifier(n_neighbors=20) # Define the model with parameters\n"
   ]
  },
  {
   "cell_type": "markdown",
   "metadata": {
    "colab_type": "text",
    "id": "cfKnOPbdAbzB"
   },
   "source": [
    "We can then proceed to train the model using the fit command and evaluate it using the function we defined before: "
   ]
  },
  {
   "cell_type": "code",
   "execution_count": 14,
   "metadata": {
    "colab": {},
    "colab_type": "code",
    "id": "5wZLBhLzAbzH"
   },
   "outputs": [
    {
     "name": "stdout",
     "output_type": "stream",
     "text": [
      "AUC  is:   0.7202611218568665\n",
      "              precision    recall  f1-score   support\n",
      "\n",
      "           0       0.81      0.57      0.67        44\n",
      "           1       0.68      0.87      0.77        47\n",
      "\n",
      "    accuracy                           0.73        91\n",
      "   macro avg       0.74      0.72      0.72        91\n",
      "weighted avg       0.74      0.73      0.72        91\n",
      "\n",
      "Confusion Matrix: \n",
      " [[25 19]\n",
      " [ 6 41]]\n"
     ]
    },
    {
     "data": {
      "image/png": "[encoded data removed]",
      "text/plain": [
       "<Figure size 432x288 with 1 Axes>"
      ]
     },
     "metadata": {},
     "output_type": "display_data"
    }
   ],
   "source": [
    "model.fit(X_train_norm, y_train) # Training the model\n",
    "\n",
    "# Evaluate the model:\n",
    "y_pred  =  model.predict(X_test_norm)  #  Predicting  labels  for  our  test  set  using trained\n",
    "evaluate_on_training_set(y_test,  y_pred)  #evaluate  \n"
   ]
  },
  {
   "cell_type": "markdown",
   "metadata": {
    "colab_type": "text",
    "id": "sg9vW0qE5XUl"
   },
   "source": [
    "It's extremely important to set a good value for k, so you will need to test this. E.g. try running the above code with k = 5. See any change? Your F1 scores should go up! "
   ]
  },
  {
   "cell_type": "markdown",
   "metadata": {
    "colab_type": "text",
    "id": "H4zwXi4ZhrfI"
   },
   "source": [
    "### Model 3: Logistic Regression\n",
    "\n",
    "Let's move on to a very powerful, yet fast model: Logistic Regression. Again, we start by loading the library and defining the model together with its parameters. \n",
    "\n",
    "In this case, multi_class auto will detect the number of classes automatically, C is our regularisation parameter, and solver is the optimization algorithm used to fit the model: \n",
    "* For small datasets, ‘liblinear’ is a good choice, whereas ‘sag’ and ‘saga’ are faster for large ones.\n",
    "* For multiclass problems, only ‘newton-cg’, ‘sag’, ‘saga’ and ‘lbfgs’ handle multinomial loss; ‘liblinear’ is limited to one-versus-rest schemes.\n",
    "* ‘newton-cg’, ‘lbfgs’, ‘sag’ and ‘saga’ handle L2 or no penalty\n",
    "* ‘liblinear’ and ‘saga’ also handle L1 penalty\n",
    "* ‘saga’ also supports ‘elasticnet’ penalty\n",
    "* ‘liblinear’ does not handle no penalty"
   ]
  },
  {
   "cell_type": "code",
   "execution_count": 15,
   "metadata": {
    "colab": {},
    "colab_type": "code",
    "id": "fLIt5YndT50m"
   },
   "outputs": [],
   "source": [
    "from sklearn.linear_model import LogisticRegression\n",
    "model  =  LogisticRegression(C=1.0,  multi_class='auto',  solver='lbfgs')\n",
    "# Define the model with parameters\n"
   ]
  },
  {
   "cell_type": "markdown",
   "metadata": {
    "colab_type": "text",
    "id": "PnxXpOEAT5Xv"
   },
   "source": [
    "We can the train and evaluate the model like usual: "
   ]
  },
  {
   "cell_type": "code",
   "execution_count": 16,
   "metadata": {
    "colab": {},
    "colab_type": "code",
    "id": "_QBgzuzXT5RQ"
   },
   "outputs": [
    {
     "name": "stdout",
     "output_type": "stream",
     "text": [
      "AUC  is:   0.7884429400386848\n",
      "              precision    recall  f1-score   support\n",
      "\n",
      "           0       0.84      0.70      0.77        44\n",
      "           1       0.76      0.87      0.81        47\n",
      "\n",
      "    accuracy                           0.79        91\n",
      "   macro avg       0.80      0.79      0.79        91\n",
      "weighted avg       0.80      0.79      0.79        91\n",
      "\n",
      "Confusion Matrix: \n",
      " [[31 13]\n",
      " [ 6 41]]\n"
     ]
    },
    {
     "data": {
      "image/png": "[encoded data removed]",
      "text/plain": [
       "<Figure size 432x288 with 1 Axes>"
      ]
     },
     "metadata": {},
     "output_type": "display_data"
    }
   ],
   "source": [
    "model.fit(X_train_norm, y_train) # Training the model\n",
    "\n",
    "y_pred  =  model.predict(X_test_norm)  #  Predicting  labels  for  our  test  set  using trained\n",
    "evaluate_on_training_set(y_test,  y_pred)  #evaluate  our  model  using  newly  defined  funct"
   ]
  },
  {
   "cell_type": "markdown",
   "metadata": {
    "colab_type": "text",
    "id": "ccCDO_059GQt"
   },
   "source": [
    "This is a fast model again, with rather good output. "
   ]
  },
  {
   "cell_type": "markdown",
   "metadata": {
    "colab_type": "text",
    "id": "PDH79leQBhhG"
   },
   "source": [
    "### Model 4: Gaussian Naive Bayes\n",
    "\n",
    "Let's create a Naive Bayes model. There are a [number of variants on this model to choose](https://scikit-learn.org/stable/modules/naive_bayes.html) from in Scikit learn, let's pick the Gaussian variant. Same thing as always, we load the library and define the model: "
   ]
  },
  {
   "cell_type": "code",
   "execution_count": 17,
   "metadata": {
    "colab": {},
    "colab_type": "code",
    "id": "OGd4wUJlBhhS"
   },
   "outputs": [],
   "source": [
    "from sklearn.naive_bayes import GaussianNB\n",
    "model = GaussianNB() # Define the model with parameters\n",
    "\n"
   ]
  },
  {
   "cell_type": "markdown",
   "metadata": {
    "colab_type": "text",
    "id": "sJG3BrjMBhhd"
   },
   "source": [
    "We can proceed to train (fit) the model and evaluate: "
   ]
  },
  {
   "cell_type": "code",
   "execution_count": 18,
   "metadata": {
    "colab": {},
    "colab_type": "code",
    "id": "K7gc7fHHBhhi"
   },
   "outputs": [
    {
     "name": "stdout",
     "output_type": "stream",
     "text": [
      "AUC  is:   0.799806576402321\n",
      "              precision    recall  f1-score   support\n",
      "\n",
      "           0       0.84      0.73      0.78        44\n",
      "           1       0.77      0.87      0.82        47\n",
      "\n",
      "    accuracy                           0.80        91\n",
      "   macro avg       0.81      0.80      0.80        91\n",
      "weighted avg       0.81      0.80      0.80        91\n",
      "\n",
      "Confusion Matrix: \n",
      " [[32 12]\n",
      " [ 6 41]]\n"
     ]
    },
    {
     "data": {
      "image/png": "[encoded data removed]",
      "text/plain": [
       "<Figure size 432x288 with 1 Axes>"
      ]
     },
     "metadata": {},
     "output_type": "display_data"
    }
   ],
   "source": [
    "model.fit(X_train_norm, y_train) # Training the model\n",
    "\n",
    "y_pred  =  model.predict(X_test_norm)  #  Predicting  labels  for  our  test  set  using trained\n",
    "evaluate_on_training_set(y_test,  y_pred)  #evaluate  \n"
   ]
  },
  {
   "cell_type": "markdown",
   "metadata": {
    "colab_type": "text",
    "id": "7fFvlmdg-WKN"
   },
   "source": [
    "Not a bad result! Gaussian models often perform well with smaller datasets as they fit the limited data to a distribution. "
   ]
  },
  {
   "cell_type": "markdown",
   "metadata": {
    "colab_type": "text",
    "id": "Y29Xe17lV2NX"
   },
   "source": [
    "### Model 5: SVM"
   ]
  },
  {
   "cell_type": "markdown",
   "metadata": {
    "colab_type": "text",
    "id": "0pQZCVX9SiL7"
   },
   "source": [
    "Support Vector Machines offer a very powerful way to transform our data by implementing a 'kernel trick'. Hence, when we define our model, we need to specify our kernel. The results will be highly dependant on the kernel value and the regularisation parameter C. \n",
    "\n",
    "The kernel can be: ‘linear’, ‘poly’, ‘rbf’, ‘sigmoid’, ‘precomputed’. If none is given, ‘rbf’ will be used."
   ]
  },
  {
   "cell_type": "code",
   "execution_count": 19,
   "metadata": {
    "colab": {},
    "colab_type": "code",
    "id": "M6HvqJQAV5Fi"
   },
   "outputs": [
    {
     "data": {
      "text/plain": [
       "SVC(C=10, cache_size=200, class_weight=None, coef0=0.0,\n",
       "    decision_function_shape='ovr', degree=3, gamma='auto', kernel='rbf',\n",
       "    max_iter=-1, probability=False, random_state=None, shrinking=True,\n",
       "    tol=0.001, verbose=False)"
      ]
     },
     "execution_count": 19,
     "metadata": {},
     "output_type": "execute_result"
    }
   ],
   "source": [
    "from  sklearn.svm  import  SVC\n",
    "model  =  SVC(C=10,  gamma='auto',  kernel='rbf') \n",
    "model.fit(X_train_norm, y_train)\n"
   ]
  },
  {
   "cell_type": "markdown",
   "metadata": {
    "colab_type": "text",
    "id": "apT-Sk1hSmPp"
   },
   "source": [
    "As usual, we use the exact same commands to train and evaluate the model: "
   ]
  },
  {
   "cell_type": "code",
   "execution_count": 20,
   "metadata": {
    "colab": {},
    "colab_type": "code",
    "id": "ngMA8wrOSruL"
   },
   "outputs": [
    {
     "name": "stdout",
     "output_type": "stream",
     "text": [
      "AUC  is:   0.7983558994197292\n",
      "              precision    recall  f1-score   support\n",
      "\n",
      "           0       0.88      0.68      0.77        44\n",
      "           1       0.75      0.91      0.83        47\n",
      "\n",
      "    accuracy                           0.80        91\n",
      "   macro avg       0.82      0.80      0.80        91\n",
      "weighted avg       0.82      0.80      0.80        91\n",
      "\n",
      "Confusion Matrix: \n",
      " [[30 14]\n",
      " [ 4 43]]\n"
     ]
    },
    {
     "data": {
      "image/png": "[encoded data removed]",
      "text/plain": [
       "<Figure size 432x288 with 1 Axes>"
      ]
     },
     "metadata": {},
     "output_type": "display_data"
    }
   ],
   "source": [
    "model.fit(X_train_norm, y_train) # Training SVM\n",
    "\n",
    "y_pred  =  model.predict(X_test_norm)  #  Predicting  labels  for  our  test  set  using trained\n",
    "evaluate_on_training_set(y_test,  y_pred)  #evaluate  \n"
   ]
  },
  {
   "cell_type": "markdown",
   "metadata": {
    "colab_type": "text",
    "id": "Ssew1Y4f_O-x"
   },
   "source": [
    "##### optimizing SVM using GridSearch \n",
    "Were you expecting better results from such a powerful model? Let's tweek the parameters to improve our accuracy...\n",
    "\n",
    "We will be using Grid Search to tune parameters and try a range: \n",
    "- with kernel rbf, try varying gamma (which is a coefficient in the rbf kernel) to be 1e-3 or 1e-4; and vary C to be 1, 10, or 100.\n",
    "- with linear kernel (there is no gamma here), try varying C to be 1, 10, and 100.\n",
    "\n",
    "These values are stored as tuned_parameters. "
   ]
  },
  {
   "cell_type": "code",
   "execution_count": 23,
   "metadata": {
    "colab": {},
    "colab_type": "code",
    "id": "tCvou1fXTa7l"
   },
   "outputs": [],
   "source": [
    "from sklearn.model_selection import GridSearchCV\n",
    "from sklearn.metrics import classification_report\n",
    "tuned_parameters  =  [{'kernel':  ['rbf'],\n",
    "'gamma':  [1e-3,  1e-4],\n",
    "'C':  [1,  10,  100]},\n",
    "{'kernel':  ['linear'],\n",
    "'C':  [1,  10,  100]}]\n"
   ]
  },
  {
   "cell_type": "markdown",
   "metadata": {
    "colab_type": "text",
    "id": "RjX_fJEgTa21"
   },
   "source": [
    "Using the above parameters, we can run a GridSearch algorithm to optimize the AUC score. The verbose output will output the process; n_jobs will parallize the computation over 4 processors; 2-fold CV is used during the search (cv = 2). "
   ]
  },
  {
   "cell_type": "code",
   "execution_count": 24,
   "metadata": {
    "colab": {},
    "colab_type": "code",
    "id": "iPzkCidqTaxS"
   },
   "outputs": [
    {
     "name": "stdout",
     "output_type": "stream",
     "text": [
      "Fitting 2 folds for each of 9 candidates, totalling 18 fits\n"
     ]
    },
    {
     "name": "stderr",
     "output_type": "stream",
     "text": [
      "[Parallel(n_jobs=4)]: Using backend LokyBackend with 4 concurrent workers.\n",
      "[Parallel(n_jobs=4)]: Done  18 out of  18 | elapsed:    3.9s finished\n"
     ]
    },
    {
     "data": {
      "text/plain": [
       "GridSearchCV(cv=2, error_score='raise-deprecating',\n",
       "             estimator=SVC(C=1.0, cache_size=200, class_weight=None, coef0=0.0,\n",
       "                           decision_function_shape='ovr', degree=3,\n",
       "                           gamma='auto_deprecated', kernel='rbf', max_iter=-1,\n",
       "                           probability=False, random_state=None, shrinking=True,\n",
       "                           tol=0.001, verbose=False),\n",
       "             iid='warn', n_jobs=4,\n",
       "             param_grid=[{'C': [1, 10, 100], 'gamma': [0.001, 0.0001],\n",
       "                          'kernel': ['rbf']},\n",
       "                         {'C': [1, 10, 100], 'kernel': ['linear']}],\n",
       "             pre_dispatch='2*n_jobs', refit=True, return_train_score=False,\n",
       "             scoring='roc_auc', verbose=1)"
      ]
     },
     "execution_count": 24,
     "metadata": {},
     "output_type": "execute_result"
    }
   ],
   "source": [
    "# we define the grid search model for SVM:\n",
    "clf  =  GridSearchCV(SVC(),  tuned_parameters,  cv=2,\n",
    "scoring='roc_auc',  verbose=1,  n_jobs=4)\n",
    "\n",
    "# train the model on the training set:\n",
    "clf.fit(X_train_norm, y_train)\n"
   ]
  },
  {
   "cell_type": "markdown",
   "metadata": {
    "colab_type": "text",
    "id": "K7wpv63TisBw"
   },
   "source": [
    "Once this is trained we can again look at what the best parameters are and how well the model performs. "
   ]
  },
  {
   "cell_type": "code",
   "execution_count": 26,
   "metadata": {
    "colab": {},
    "colab_type": "code",
    "id": "48-O9Iz3irgy"
   },
   "outputs": [
    {
     "name": "stdout",
     "output_type": "stream",
     "text": [
      "Best parameter set found on development set:\n",
      "{'C': 10, 'kernel': 'linear'} \n",
      "\n",
      "AUC  is:   0.8210831721470019\n",
      "              precision    recall  f1-score   support\n",
      "\n",
      "           0       0.89      0.73      0.80        44\n",
      "           1       0.78      0.91      0.84        47\n",
      "\n",
      "    accuracy                           0.82        91\n",
      "   macro avg       0.84      0.82      0.82        91\n",
      "weighted avg       0.83      0.82      0.82        91\n",
      "\n",
      "Confusion Matrix: \n",
      " [[32 12]\n",
      " [ 4 43]]\n"
     ]
    },
    {
     "data": {
      "image/png": "[encoded data removed]",
      "text/plain": [
       "<Figure size 432x288 with 1 Axes>"
      ]
     },
     "metadata": {},
     "output_type": "display_data"
    }
   ],
   "source": [
    "# Show best parameters:\n",
    "print(\"Best parameter set found on development set:\") \n",
    "print(clf.best_params_,  '\\n')\n",
    "\n",
    "y_pred = clf.predict(X_test_norm) #create predictions\n",
    "evaluate_on_training_set(y_test, y_pred) # evaluate like we always do\n"
   ]
  },
  {
   "cell_type": "markdown",
   "metadata": {
    "colab_type": "text",
    "id": "shn7lQyfAwZI"
   },
   "source": [
    "### Model 5: AdaBoostClassifier (Ensemble method)\n",
    "\n",
    "Ensemble models such as AdaBoost build multiple models and leverage the output to get a better result (most of the time). Sklearn tells us that: \"AdaBoost is a meta-estimator that begins by fitting a classifier on the original dataset and then fits additional copies of the classifier on the same dataset but where the weights of incorrectly classified instances are adjusted such that subsequent classifiers focus more on difficult cases.\"\n",
    "\n",
    "Let's define our model and set some parameters, learning rate can vary from 0 to 1; and n_estimators is the number of times a model is built. "
   ]
  },
  {
   "cell_type": "code",
   "execution_count": 27,
   "metadata": {
    "colab": {},
    "colab_type": "code",
    "id": "_UweHzVKAwZi"
   },
   "outputs": [],
   "source": [
    "from  sklearn.ensemble  import  AdaBoostClassifier\n",
    "model  =  AdaBoostClassifier(n_estimators=1000,  learning_rate=0.1)  #  Define  the  model  wi\n",
    "\n"
   ]
  },
  {
   "cell_type": "markdown",
   "metadata": {
    "colab_type": "text",
    "id": "oIQpSZURAwZx"
   },
   "source": [
    "How does it perform? "
   ]
  },
  {
   "cell_type": "code",
   "execution_count": 28,
   "metadata": {
    "colab": {},
    "colab_type": "code",
    "id": "b62R66_EAwaE"
   },
   "outputs": [
    {
     "name": "stdout",
     "output_type": "stream",
     "text": [
      "AUC  is:   0.8239845261121856\n",
      "              precision    recall  f1-score   support\n",
      "\n",
      "           0       0.82      0.82      0.82        44\n",
      "           1       0.83      0.83      0.83        47\n",
      "\n",
      "    accuracy                           0.82        91\n",
      "   macro avg       0.82      0.82      0.82        91\n",
      "weighted avg       0.82      0.82      0.82        91\n",
      "\n",
      "Confusion Matrix: \n",
      " [[36  8]\n",
      " [ 8 39]]\n"
     ]
    },
    {
     "data": {
      "image/png": "[encoded data removed]",
      "text/plain": [
       "<Figure size 432x288 with 1 Axes>"
      ]
     },
     "metadata": {},
     "output_type": "display_data"
    }
   ],
   "source": [
    "model.fit(X_train_norm, y_train) # Training the model\n",
    "\n",
    "y_pred  =  model.predict(X_test_norm)  #  Predicting  labels  for  our  test  set  using trained\n",
    "evaluate_on_training_set(y_test,  y_pred)  #evaluate  \n"
   ]
  },
  {
   "cell_type": "markdown",
   "metadata": {
    "colab_type": "text",
    "id": "1xbMP0yiBSXH"
   },
   "source": [
    "### Model 6: RandomForestClassifier\n",
    "\n",
    "Another ensemble classifier is Random Forest, which takes a bagging approach. We define the model: "
   ]
  },
  {
   "cell_type": "code",
   "execution_count": 29,
   "metadata": {
    "colab": {},
    "colab_type": "code",
    "id": "kzrmpvqnBNWZ"
   },
   "outputs": [],
   "source": [
    "from  sklearn.ensemble  import  RandomForestClassifier\n",
    "model  =  RandomForestClassifier(n_estimators  =  50)  #  Define  the  model\n",
    "\n"
   ]
  },
  {
   "cell_type": "markdown",
   "metadata": {
    "colab_type": "text",
    "id": "6OzZd-UoBNWW"
   },
   "source": [
    "You can experiment with the parameters above (n_estimators is how many trees there are in the model), until you get good results. More parameters about the trees can be found [here](https://scikit-learn.org/stable/modules/generated/sklearn.ensemble.RandomForestClassifier.html). "
   ]
  },
  {
   "cell_type": "code",
   "execution_count": 30,
   "metadata": {
    "colab": {},
    "colab_type": "code",
    "id": "mydCJ77ZBNWi"
   },
   "outputs": [
    {
     "name": "stdout",
     "output_type": "stream",
     "text": [
      "AUC  is:   0.8317214700193424\n",
      "              precision    recall  f1-score   support\n",
      "\n",
      "           0       0.91      0.73      0.81        44\n",
      "           1       0.79      0.94      0.85        47\n",
      "\n",
      "    accuracy                           0.84        91\n",
      "   macro avg       0.85      0.83      0.83        91\n",
      "weighted avg       0.85      0.84      0.83        91\n",
      "\n",
      "Confusion Matrix: \n",
      " [[32 12]\n",
      " [ 3 44]]\n"
     ]
    },
    {
     "data": {
      "image/png": "[encoded data removed]",
      "text/plain": [
       "<Figure size 432x288 with 1 Axes>"
      ]
     },
     "metadata": {},
     "output_type": "display_data"
    }
   ],
   "source": [
    "model.fit(X_train_norm, y_train) # Training the model\n",
    "\n",
    "y_pred  =  model.predict(X_test_norm)  #  Predicting  labels  for  our  test  set  using trained\n",
    "evaluate_on_training_set(y_test,  y_pred)  #evaluate  \n"
   ]
  },
  {
   "cell_type": "markdown",
   "metadata": {
    "colab_type": "text",
    "id": "gVcGUR7QBNWq"
   },
   "source": [
    "This is an excellent model and trained quite fast. "
   ]
  },
  {
   "cell_type": "markdown",
   "metadata": {
    "colab_type": "text",
    "id": "ENhvgZA-cUyB"
   },
   "source": [
    "# Let's try on a new dataset..."
   ]
  },
  {
   "cell_type": "markdown",
   "metadata": {
    "colab_type": "text",
    "id": "hN8PoYrvlLUT"
   },
   "source": [
    "Find the best performing model to predict student's academic performance and the following dataset: https://www.kaggle.com/aljarah/xAPI-Edu-Data. The goal is to estimate the grade level of the student: \n",
    "\n",
    "The students are grouped into three numerical intervals based on their total grade/mark:\n",
    "* Low-Level: interval includes values from 0 to 69,\n",
    "* Middle-Level: interval includes values from 70 to 89,\n",
    "* High-Level: interval includes values from 90-100.\n",
    "\n",
    "Some steps for you to follow: \n",
    "\n",
    "1. Load the csv file as dataframe directly from\n",
    "\n",
    " https://dorienherremans.com/drop/CDS/classification/xAPI-Edu-Data.csv\n",
    "2. Check if columns are recognised as categorical, is not, change them to categorical with the command: \n",
    "\n",
    "for key in ['gender','NationalITy','PlaceofBirth','StageID','GradeID','SectionID','Topic','Semester',\n",
    "'Relation',\n",
    "\n",
    "'ParentAnsweringSurvey','ParentschoolSatisfaction',\n",
    "'StudentAbsenceDays','Class']:\n",
    "\n",
    "    data[key] = pd.Categorical(data[key])\n",
    "    data[key] = data[key].cat.codes\n",
    "\n",
    "3. Preprocess the data to create a normalized training set with 30% split.\n",
    "4. Train and evaluate multiple models to find the best classifier. \n",
    "\n",
    "IMPORTANT: Evaluate **only** in terms of classification_report and confusion matrix. (No need for AUC and ROC here, as we are doing multiclass classification, the target label would need to be binarized first, which we are not doing.)\n",
    "\n",
    "We are trying to reach the **best recall performance** for predicting high grade students (class 0), in other words: number of correctly predicted high grade students over the total number of high grade students. \n",
    "\n",
    "**Fill in your best performing recall score for class 0 in our high score list: \n",
    "https://forms.gle/wquRxxjVBfgnVtht8**\n"
   ]
  },
  {
   "cell_type": "code",
   "execution_count": 31,
   "metadata": {
    "colab": {},
    "colab_type": "code",
    "id": "8BjcZHuoYbWk"
   },
   "outputs": [
    {
     "data": {
      "text/html": [
       "<div>\n",
       "<style scoped>\n",
       "    .dataframe tbody tr th:only-of-type {\n",
       "        vertical-align: middle;\n",
       "    }\n",
       "\n",
       "    .dataframe tbody tr th {\n",
       "        vertical-align: top;\n",
       "    }\n",
       "\n",
       "    .dataframe thead th {\n",
       "        text-align: right;\n",
       "    }\n",
       "</style>\n",
       "<table border=\"1\" class=\"dataframe\">\n",
       "  <thead>\n",
       "    <tr style=\"text-align: right;\">\n",
       "      <th></th>\n",
       "      <th>gender</th>\n",
       "      <th>NationalITy</th>\n",
       "      <th>PlaceofBirth</th>\n",
       "      <th>StageID</th>\n",
       "      <th>GradeID</th>\n",
       "      <th>SectionID</th>\n",
       "      <th>Topic</th>\n",
       "      <th>Semester</th>\n",
       "      <th>Relation</th>\n",
       "      <th>raisedhands</th>\n",
       "      <th>VisITedResources</th>\n",
       "      <th>AnnouncementsView</th>\n",
       "      <th>Discussion</th>\n",
       "      <th>ParentAnsweringSurvey</th>\n",
       "      <th>ParentschoolSatisfaction</th>\n",
       "      <th>StudentAbsenceDays</th>\n",
       "      <th>Class</th>\n",
       "    </tr>\n",
       "  </thead>\n",
       "  <tbody>\n",
       "    <tr>\n",
       "      <th>0</th>\n",
       "      <td>M</td>\n",
       "      <td>KW</td>\n",
       "      <td>KuwaIT</td>\n",
       "      <td>lowerlevel</td>\n",
       "      <td>G-04</td>\n",
       "      <td>A</td>\n",
       "      <td>IT</td>\n",
       "      <td>F</td>\n",
       "      <td>Father</td>\n",
       "      <td>15</td>\n",
       "      <td>16</td>\n",
       "      <td>2</td>\n",
       "      <td>20</td>\n",
       "      <td>Yes</td>\n",
       "      <td>Good</td>\n",
       "      <td>Under-7</td>\n",
       "      <td>M</td>\n",
       "    </tr>\n",
       "    <tr>\n",
       "      <th>1</th>\n",
       "      <td>M</td>\n",
       "      <td>KW</td>\n",
       "      <td>KuwaIT</td>\n",
       "      <td>lowerlevel</td>\n",
       "      <td>G-04</td>\n",
       "      <td>A</td>\n",
       "      <td>IT</td>\n",
       "      <td>F</td>\n",
       "      <td>Father</td>\n",
       "      <td>20</td>\n",
       "      <td>20</td>\n",
       "      <td>3</td>\n",
       "      <td>25</td>\n",
       "      <td>Yes</td>\n",
       "      <td>Good</td>\n",
       "      <td>Under-7</td>\n",
       "      <td>M</td>\n",
       "    </tr>\n",
       "    <tr>\n",
       "      <th>2</th>\n",
       "      <td>M</td>\n",
       "      <td>KW</td>\n",
       "      <td>KuwaIT</td>\n",
       "      <td>lowerlevel</td>\n",
       "      <td>G-04</td>\n",
       "      <td>A</td>\n",
       "      <td>IT</td>\n",
       "      <td>F</td>\n",
       "      <td>Father</td>\n",
       "      <td>10</td>\n",
       "      <td>7</td>\n",
       "      <td>0</td>\n",
       "      <td>30</td>\n",
       "      <td>No</td>\n",
       "      <td>Bad</td>\n",
       "      <td>Above-7</td>\n",
       "      <td>L</td>\n",
       "    </tr>\n",
       "    <tr>\n",
       "      <th>3</th>\n",
       "      <td>M</td>\n",
       "      <td>KW</td>\n",
       "      <td>KuwaIT</td>\n",
       "      <td>lowerlevel</td>\n",
       "      <td>G-04</td>\n",
       "      <td>A</td>\n",
       "      <td>IT</td>\n",
       "      <td>F</td>\n",
       "      <td>Father</td>\n",
       "      <td>30</td>\n",
       "      <td>25</td>\n",
       "      <td>5</td>\n",
       "      <td>35</td>\n",
       "      <td>No</td>\n",
       "      <td>Bad</td>\n",
       "      <td>Above-7</td>\n",
       "      <td>L</td>\n",
       "    </tr>\n",
       "    <tr>\n",
       "      <th>4</th>\n",
       "      <td>M</td>\n",
       "      <td>KW</td>\n",
       "      <td>KuwaIT</td>\n",
       "      <td>lowerlevel</td>\n",
       "      <td>G-04</td>\n",
       "      <td>A</td>\n",
       "      <td>IT</td>\n",
       "      <td>F</td>\n",
       "      <td>Father</td>\n",
       "      <td>40</td>\n",
       "      <td>50</td>\n",
       "      <td>12</td>\n",
       "      <td>50</td>\n",
       "      <td>No</td>\n",
       "      <td>Bad</td>\n",
       "      <td>Above-7</td>\n",
       "      <td>M</td>\n",
       "    </tr>\n",
       "  </tbody>\n",
       "</table>\n",
       "</div>"
      ],
      "text/plain": [
       "  gender NationalITy PlaceofBirth     StageID GradeID SectionID Topic  \\\n",
       "0      M          KW       KuwaIT  lowerlevel    G-04         A    IT   \n",
       "1      M          KW       KuwaIT  lowerlevel    G-04         A    IT   \n",
       "2      M          KW       KuwaIT  lowerlevel    G-04         A    IT   \n",
       "3      M          KW       KuwaIT  lowerlevel    G-04         A    IT   \n",
       "4      M          KW       KuwaIT  lowerlevel    G-04         A    IT   \n",
       "\n",
       "  Semester Relation  raisedhands  VisITedResources  AnnouncementsView  \\\n",
       "0        F   Father           15                16                  2   \n",
       "1        F   Father           20                20                  3   \n",
       "2        F   Father           10                 7                  0   \n",
       "3        F   Father           30                25                  5   \n",
       "4        F   Father           40                50                 12   \n",
       "\n",
       "   Discussion ParentAnsweringSurvey ParentschoolSatisfaction  \\\n",
       "0          20                   Yes                     Good   \n",
       "1          25                   Yes                     Good   \n",
       "2          30                    No                      Bad   \n",
       "3          35                    No                      Bad   \n",
       "4          50                    No                      Bad   \n",
       "\n",
       "  StudentAbsenceDays Class  \n",
       "0            Under-7     M  \n",
       "1            Under-7     M  \n",
       "2            Above-7     L  \n",
       "3            Above-7     L  \n",
       "4            Above-7     M  "
      ]
     },
     "execution_count": 31,
     "metadata": {},
     "output_type": "execute_result"
    }
   ],
   "source": [
    "file=r\"C:\\Users\\gaoyu\\Downloads\\xAPI-Edu-Data.csv\"\n",
    "data  =  pd.read_csv(file)  #  loading  dataset\n",
    "data.head() #"
   ]
  },
  {
   "cell_type": "markdown",
   "metadata": {
    "colab_type": "text",
    "id": "KCDWq6MXxLPw"
   },
   "source": [
    "Helpful code to categorise the attributes (and save you typing time): "
   ]
  },
  {
   "cell_type": "code",
   "execution_count": 32,
   "metadata": {
    "colab": {},
    "colab_type": "code",
    "id": "UgE5EN9AxLW-"
   },
   "outputs": [
    {
     "data": {
      "text/html": [
       "<div>\n",
       "<style scoped>\n",
       "    .dataframe tbody tr th:only-of-type {\n",
       "        vertical-align: middle;\n",
       "    }\n",
       "\n",
       "    .dataframe tbody tr th {\n",
       "        vertical-align: top;\n",
       "    }\n",
       "\n",
       "    .dataframe thead th {\n",
       "        text-align: right;\n",
       "    }\n",
       "</style>\n",
       "<table border=\"1\" class=\"dataframe\">\n",
       "  <thead>\n",
       "    <tr style=\"text-align: right;\">\n",
       "      <th></th>\n",
       "      <th>gender</th>\n",
       "      <th>NationalITy</th>\n",
       "      <th>PlaceofBirth</th>\n",
       "      <th>StageID</th>\n",
       "      <th>GradeID</th>\n",
       "      <th>SectionID</th>\n",
       "      <th>Topic</th>\n",
       "      <th>Semester</th>\n",
       "      <th>Relation</th>\n",
       "      <th>raisedhands</th>\n",
       "      <th>VisITedResources</th>\n",
       "      <th>AnnouncementsView</th>\n",
       "      <th>Discussion</th>\n",
       "      <th>ParentAnsweringSurvey</th>\n",
       "      <th>ParentschoolSatisfaction</th>\n",
       "      <th>StudentAbsenceDays</th>\n",
       "      <th>Class</th>\n",
       "    </tr>\n",
       "  </thead>\n",
       "  <tbody>\n",
       "    <tr>\n",
       "      <th>0</th>\n",
       "      <td>1</td>\n",
       "      <td>4</td>\n",
       "      <td>4</td>\n",
       "      <td>2</td>\n",
       "      <td>1</td>\n",
       "      <td>0</td>\n",
       "      <td>7</td>\n",
       "      <td>0</td>\n",
       "      <td>0</td>\n",
       "      <td>15</td>\n",
       "      <td>16</td>\n",
       "      <td>2</td>\n",
       "      <td>20</td>\n",
       "      <td>1</td>\n",
       "      <td>1</td>\n",
       "      <td>1</td>\n",
       "      <td>2</td>\n",
       "    </tr>\n",
       "    <tr>\n",
       "      <th>1</th>\n",
       "      <td>1</td>\n",
       "      <td>4</td>\n",
       "      <td>4</td>\n",
       "      <td>2</td>\n",
       "      <td>1</td>\n",
       "      <td>0</td>\n",
       "      <td>7</td>\n",
       "      <td>0</td>\n",
       "      <td>0</td>\n",
       "      <td>20</td>\n",
       "      <td>20</td>\n",
       "      <td>3</td>\n",
       "      <td>25</td>\n",
       "      <td>1</td>\n",
       "      <td>1</td>\n",
       "      <td>1</td>\n",
       "      <td>2</td>\n",
       "    </tr>\n",
       "    <tr>\n",
       "      <th>2</th>\n",
       "      <td>1</td>\n",
       "      <td>4</td>\n",
       "      <td>4</td>\n",
       "      <td>2</td>\n",
       "      <td>1</td>\n",
       "      <td>0</td>\n",
       "      <td>7</td>\n",
       "      <td>0</td>\n",
       "      <td>0</td>\n",
       "      <td>10</td>\n",
       "      <td>7</td>\n",
       "      <td>0</td>\n",
       "      <td>30</td>\n",
       "      <td>0</td>\n",
       "      <td>0</td>\n",
       "      <td>0</td>\n",
       "      <td>1</td>\n",
       "    </tr>\n",
       "    <tr>\n",
       "      <th>3</th>\n",
       "      <td>1</td>\n",
       "      <td>4</td>\n",
       "      <td>4</td>\n",
       "      <td>2</td>\n",
       "      <td>1</td>\n",
       "      <td>0</td>\n",
       "      <td>7</td>\n",
       "      <td>0</td>\n",
       "      <td>0</td>\n",
       "      <td>30</td>\n",
       "      <td>25</td>\n",
       "      <td>5</td>\n",
       "      <td>35</td>\n",
       "      <td>0</td>\n",
       "      <td>0</td>\n",
       "      <td>0</td>\n",
       "      <td>1</td>\n",
       "    </tr>\n",
       "    <tr>\n",
       "      <th>4</th>\n",
       "      <td>1</td>\n",
       "      <td>4</td>\n",
       "      <td>4</td>\n",
       "      <td>2</td>\n",
       "      <td>1</td>\n",
       "      <td>0</td>\n",
       "      <td>7</td>\n",
       "      <td>0</td>\n",
       "      <td>0</td>\n",
       "      <td>40</td>\n",
       "      <td>50</td>\n",
       "      <td>12</td>\n",
       "      <td>50</td>\n",
       "      <td>0</td>\n",
       "      <td>0</td>\n",
       "      <td>0</td>\n",
       "      <td>2</td>\n",
       "    </tr>\n",
       "  </tbody>\n",
       "</table>\n",
       "</div>"
      ],
      "text/plain": [
       "   gender  NationalITy  PlaceofBirth  StageID  GradeID  SectionID  Topic  \\\n",
       "0       1            4             4        2        1          0      7   \n",
       "1       1            4             4        2        1          0      7   \n",
       "2       1            4             4        2        1          0      7   \n",
       "3       1            4             4        2        1          0      7   \n",
       "4       1            4             4        2        1          0      7   \n",
       "\n",
       "   Semester  Relation  raisedhands  VisITedResources  AnnouncementsView  \\\n",
       "0         0         0           15                16                  2   \n",
       "1         0         0           20                20                  3   \n",
       "2         0         0           10                 7                  0   \n",
       "3         0         0           30                25                  5   \n",
       "4         0         0           40                50                 12   \n",
       "\n",
       "   Discussion  ParentAnsweringSurvey  ParentschoolSatisfaction  \\\n",
       "0          20                      1                         1   \n",
       "1          25                      1                         1   \n",
       "2          30                      0                         0   \n",
       "3          35                      0                         0   \n",
       "4          50                      0                         0   \n",
       "\n",
       "   StudentAbsenceDays  Class  \n",
       "0                   1      2  \n",
       "1                   1      2  \n",
       "2                   0      1  \n",
       "3                   0      1  \n",
       "4                   0      2  "
      ]
     },
     "execution_count": 32,
     "metadata": {},
     "output_type": "execute_result"
    }
   ],
   "source": [
    "for key in ['gender','NationalITy','PlaceofBirth','StageID','GradeID','SectionID','Topic','Semester','Relation','ParentAnsweringSurvey','ParentschoolSatisfaction','StudentAbsenceDays','Class']:\n",
    "\n",
    "    data[key] = pd.Categorical(data[key])\n",
    "    data[key] = data[key].cat.codes\n",
    "\n",
    "data.head()"
   ]
  },
  {
   "cell_type": "code",
   "execution_count": 35,
   "metadata": {},
   "outputs": [],
   "source": [
    "X_train,  X_test,  y_train,  y_test  =  train_test_split(data.drop('Class',1),\n",
    "data['Class'], test_size=0.3, random_state=0)"
   ]
  },
  {
   "cell_type": "code",
   "execution_count": 58,
   "metadata": {},
   "outputs": [
    {
     "data": {
      "text/plain": [
       "17"
      ]
     },
     "execution_count": 58,
     "metadata": {},
     "output_type": "execute_result"
    }
   ],
   "source": [
    "len(data.dtypes)"
   ]
  },
  {
   "cell_type": "code",
   "execution_count": 61,
   "metadata": {},
   "outputs": [
    {
     "data": {
      "text/plain": [
       "480"
      ]
     },
     "execution_count": 61,
     "metadata": {},
     "output_type": "execute_result"
    }
   ],
   "source": [
    "len(data)"
   ]
  },
  {
   "cell_type": "code",
   "execution_count": 36,
   "metadata": {},
   "outputs": [],
   "source": [
    "\n",
    "# define a new scaler:\n",
    "x_scaler = MinMaxScaler()\n",
    "\n",
    "# fit the normalization on the training set:\n",
    "x_scaler.fit(X_train)\n",
    "\n",
    "# then create new and normalized training/test sets: \n",
    "X_train_norm = x_scaler.transform(X_train) \n",
    "X_test_norm = x_scaler.transform(X_test)"
   ]
  },
  {
   "cell_type": "code",
   "execution_count": 50,
   "metadata": {},
   "outputs": [],
   "source": [
    "def evaluate_on_training_set(y_test, y_pred):\n",
    "    # print out recall and precision\n",
    "    return classification_report(y_test, y_pred)\n",
    "\n",
    "    # print out confusion matrix\n",
    "    #print(\"Confusion Matrix: \\n\", confusion_matrix(y_test, y_pred))\n",
    "\n"
   ]
  },
  {
   "cell_type": "code",
   "execution_count": 59,
   "metadata": {},
   "outputs": [],
   "source": [
    "# decision tree\n",
    "def tree_exp(N):\n",
    "    model  =  tree.DecisionTreeClassifier(max_depth=N,  min_samples_leaf=1)\n",
    "    # Using default parameters\n",
    "    model.fit(X_train, y_train) \n",
    "    y_pred  =  model.predict(X_test)  #  Predicting  labels  for  our  test  set  using  model\n",
    "    re=evaluate_on_training_set(y_test,  y_pred).split(\"\\n\")[2]\n",
    "    print(\"max_depth \"+str(N),re)"
   ]
  },
  {
   "cell_type": "code",
   "execution_count": 60,
   "metadata": {},
   "outputs": [
    {
     "name": "stdout",
     "output_type": "stream",
     "text": [
      "max_depth 3            0       0.68      0.72      0.70        39\n",
      "max_depth 4            0       0.64      0.77      0.70        39\n",
      "max_depth 5            0       0.66      0.54      0.59        39\n",
      "max_depth 6            0       0.69      0.64      0.67        39\n",
      "max_depth 7            0       0.68      0.69      0.68        39\n",
      "max_depth 8            0       0.62      0.72      0.67        39\n",
      "max_depth 9            0       0.68      0.69      0.68        39\n",
      "max_depth 10            0       0.69      0.69      0.69        39\n",
      "max_depth 11            0       0.65      0.72      0.68        39\n",
      "max_depth 12            0       0.69      0.69      0.69        39\n",
      "max_depth 13            0       0.73      0.69      0.71        39\n",
      "max_depth 14            0       0.73      0.69      0.71        39\n",
      "max_depth 15            0       0.68      0.72      0.70        39\n",
      "max_depth 16            0       0.71      0.69      0.70        39\n"
     ]
    }
   ],
   "source": [
    "for i in range(3,17):\n",
    "    tree_exp(i)    "
   ]
  },
  {
   "cell_type": "code",
   "execution_count": 62,
   "metadata": {},
   "outputs": [
    {
     "name": "stdout",
     "output_type": "stream",
     "text": [
      "max_depth 10            0       0.69      0.69      0.69        39\n",
      "max_depth 11            0       0.69      0.69      0.69        39\n",
      "max_depth 12            0       0.70      0.72      0.71        39\n",
      "max_depth 13            0       0.71      0.69      0.70        39\n",
      "max_depth 14            0       0.64      0.72      0.67        39\n",
      "max_depth 15            0       0.68      0.69      0.68        39\n",
      "max_depth 16            0       0.69      0.69      0.69        39\n",
      "max_depth 17            0       0.67      0.72      0.69        39\n",
      "max_depth 18            0       0.68      0.69      0.68        39\n",
      "max_depth 19            0       0.63      0.69      0.66        39\n",
      "max_depth 20            0       0.71      0.69      0.70        39\n",
      "max_depth 21            0       0.68      0.69      0.68        39\n",
      "max_depth 22            0       0.66      0.69      0.68        39\n",
      "max_depth 23            0       0.75      0.69      0.72        39\n",
      "max_depth 24            0       0.73      0.69      0.71        39\n",
      "max_depth 25            0       0.71      0.69      0.70        39\n",
      "max_depth 26            0       0.69      0.69      0.69        39\n",
      "max_depth 27            0       0.73      0.69      0.71        39\n",
      "max_depth 28            0       0.70      0.72      0.71        39\n",
      "max_depth 29            0       0.71      0.69      0.70        39\n",
      "max_depth 30            0       0.66      0.69      0.68        39\n",
      "max_depth 31            0       0.73      0.69      0.71        39\n",
      "max_depth 32            0       0.71      0.69      0.70        39\n",
      "max_depth 33            0       0.69      0.69      0.69        39\n",
      "max_depth 34            0       0.70      0.72      0.71        39\n",
      "max_depth 35            0       0.66      0.69      0.68        39\n",
      "max_depth 36            0       0.67      0.72      0.69        39\n",
      "max_depth 37            0       0.71      0.69      0.70        39\n",
      "max_depth 38            0       0.68      0.69      0.68        39\n",
      "max_depth 39            0       0.64      0.72      0.67        39\n",
      "max_depth 40            0       0.70      0.72      0.71        39\n",
      "max_depth 41            0       0.68      0.69      0.68        39\n",
      "max_depth 42            0       0.66      0.69      0.68        39\n",
      "max_depth 43            0       0.71      0.69      0.70        39\n",
      "max_depth 44            0       0.73      0.69      0.71        39\n",
      "max_depth 45            0       0.71      0.69      0.70        39\n",
      "max_depth 46            0       0.73      0.69      0.71        39\n",
      "max_depth 47            0       0.69      0.69      0.69        39\n",
      "max_depth 48            0       0.69      0.69      0.69        39\n",
      "max_depth 49            0       0.72      0.72      0.72        39\n",
      "max_depth 50            0       0.69      0.69      0.69        39\n",
      "max_depth 51            0       0.69      0.69      0.69        39\n",
      "max_depth 52            0       0.61      0.69      0.65        39\n",
      "max_depth 53            0       0.66      0.69      0.68        39\n",
      "max_depth 54            0       0.71      0.69      0.70        39\n",
      "max_depth 55            0       0.69      0.69      0.69        39\n",
      "max_depth 56            0       0.71      0.69      0.70        39\n",
      "max_depth 57            0       0.65      0.72      0.68        39\n",
      "max_depth 58            0       0.71      0.69      0.70        39\n",
      "max_depth 59            0       0.66      0.69      0.68        39\n",
      "max_depth 60            0       0.73      0.69      0.71        39\n",
      "max_depth 61            0       0.73      0.69      0.71        39\n",
      "max_depth 62            0       0.68      0.69      0.68        39\n",
      "max_depth 63            0       0.67      0.72      0.69        39\n",
      "max_depth 64            0       0.63      0.69      0.66        39\n",
      "max_depth 65            0       0.71      0.69      0.70        39\n",
      "max_depth 66            0       0.67      0.72      0.69        39\n",
      "max_depth 67            0       0.64      0.69      0.67        39\n",
      "max_depth 68            0       0.64      0.72      0.67        39\n",
      "max_depth 69            0       0.61      0.69      0.65        39\n",
      "max_depth 70            0       0.68      0.69      0.68        39\n",
      "max_depth 71            0       0.68      0.69      0.68        39\n",
      "max_depth 72            0       0.68      0.69      0.68        39\n",
      "max_depth 73            0       0.73      0.69      0.71        39\n",
      "max_depth 74            0       0.61      0.69      0.65        39\n",
      "max_depth 75            0       0.68      0.72      0.70        39\n",
      "max_depth 76            0       0.68      0.69      0.68        39\n",
      "max_depth 77            0       0.73      0.69      0.71        39\n",
      "max_depth 78            0       0.67      0.72      0.69        39\n",
      "max_depth 79            0       0.67      0.72      0.69        39\n",
      "max_depth 80            0       0.71      0.69      0.70        39\n",
      "max_depth 81            0       0.69      0.69      0.69        39\n",
      "max_depth 82            0       0.68      0.69      0.68        39\n",
      "max_depth 83            0       0.73      0.69      0.71        39\n",
      "max_depth 84            0       0.62      0.72      0.67        39\n",
      "max_depth 85            0       0.68      0.69      0.68        39\n",
      "max_depth 86            0       0.73      0.69      0.71        39\n",
      "max_depth 87            0       0.69      0.69      0.69        39\n",
      "max_depth 88            0       0.66      0.69      0.68        39\n",
      "max_depth 89            0       0.71      0.69      0.70        39\n",
      "max_depth 90            0       0.69      0.69      0.69        39\n",
      "max_depth 91            0       0.68      0.69      0.68        39\n",
      "max_depth 92            0       0.68      0.69      0.68        39\n",
      "max_depth 93            0       0.69      0.69      0.69        39\n",
      "max_depth 94            0       0.69      0.69      0.69        39\n",
      "max_depth 95            0       0.71      0.69      0.70        39\n",
      "max_depth 96            0       0.68      0.69      0.68        39\n",
      "max_depth 97            0       0.64      0.69      0.67        39\n",
      "max_depth 98            0       0.71      0.69      0.70        39\n",
      "max_depth 99            0       0.71      0.69      0.70        39\n",
      "max_depth 100            0       0.73      0.69      0.71        39\n",
      "max_depth 101            0       0.69      0.69      0.69        39\n",
      "max_depth 102            0       0.68      0.69      0.68        39\n",
      "max_depth 103            0       0.64      0.69      0.67        39\n",
      "max_depth 104            0       0.73      0.69      0.71        39\n",
      "max_depth 105            0       0.64      0.69      0.67        39\n",
      "max_depth 106            0       0.75      0.69      0.72        39\n",
      "max_depth 107            0       0.64      0.69      0.67        39\n",
      "max_depth 108            0       0.71      0.69      0.70        39\n",
      "max_depth 109            0       0.69      0.69      0.69        39\n",
      "max_depth 110            0       0.73      0.69      0.71        39\n",
      "max_depth 111            0       0.66      0.69      0.68        39\n",
      "max_depth 112            0       0.75      0.69      0.72        39\n",
      "max_depth 113            0       0.71      0.69      0.70        39\n",
      "max_depth 114            0       0.63      0.69      0.66        39\n",
      "max_depth 115            0       0.69      0.69      0.69        39\n",
      "max_depth 116            0       0.68      0.69      0.68        39\n",
      "max_depth 117            0       0.69      0.69      0.69        39\n",
      "max_depth 118            0       0.71      0.69      0.70        39\n",
      "max_depth 119            0       0.68      0.72      0.70        39\n",
      "max_depth 120            0       0.67      0.72      0.69        39\n",
      "max_depth 121            0       0.71      0.69      0.70        39\n",
      "max_depth 122            0       0.64      0.69      0.67        39\n",
      "max_depth 123            0       0.69      0.69      0.69        39\n",
      "max_depth 124            0       0.71      0.69      0.70        39\n",
      "max_depth 125            0       0.73      0.69      0.71        39\n",
      "max_depth 126            0       0.73      0.69      0.71        39\n",
      "max_depth 127            0       0.73      0.69      0.71        39\n",
      "max_depth 128            0       0.68      0.69      0.68        39\n",
      "max_depth 129            0       0.69      0.69      0.69        39\n",
      "max_depth 130            0       0.65      0.72      0.68        39\n",
      "max_depth 131            0       0.64      0.72      0.67        39\n",
      "max_depth 132            0       0.69      0.69      0.69        39\n",
      "max_depth 133            0       0.72      0.72      0.72        39\n",
      "max_depth 134            0       0.71      0.69      0.70        39\n",
      "max_depth 135            0       0.71      0.69      0.70        39\n",
      "max_depth 136            0       0.68      0.69      0.68        39\n",
      "max_depth 137            0       0.69      0.69      0.69        39\n",
      "max_depth 138            0       0.69      0.69      0.69        39\n",
      "max_depth 139            0       0.66      0.69      0.68        39\n",
      "max_depth 140            0       0.71      0.69      0.70        39\n"
     ]
    },
    {
     "name": "stdout",
     "output_type": "stream",
     "text": [
      "max_depth 141            0       0.75      0.69      0.72        39\n",
      "max_depth 142            0       0.66      0.69      0.68        39\n",
      "max_depth 143            0       0.69      0.69      0.69        39\n",
      "max_depth 144            0       0.67      0.72      0.69        39\n",
      "max_depth 145            0       0.75      0.69      0.72        39\n",
      "max_depth 146            0       0.70      0.72      0.71        39\n",
      "max_depth 147            0       0.68      0.69      0.68        39\n",
      "max_depth 148            0       0.73      0.69      0.71        39\n",
      "max_depth 149            0       0.69      0.69      0.69        39\n",
      "max_depth 150            0       0.73      0.69      0.71        39\n",
      "max_depth 151            0       0.73      0.69      0.71        39\n",
      "max_depth 152            0       0.71      0.69      0.70        39\n",
      "max_depth 153            0       0.68      0.69      0.68        39\n",
      "max_depth 154            0       0.73      0.69      0.71        39\n",
      "max_depth 155            0       0.71      0.69      0.70        39\n",
      "max_depth 156            0       0.71      0.69      0.70        39\n",
      "max_depth 157            0       0.66      0.69      0.68        39\n",
      "max_depth 158            0       0.69      0.69      0.69        39\n",
      "max_depth 159            0       0.71      0.69      0.70        39\n",
      "max_depth 160            0       0.71      0.69      0.70        39\n",
      "max_depth 161            0       0.68      0.69      0.68        39\n",
      "max_depth 162            0       0.71      0.69      0.70        39\n",
      "max_depth 163            0       0.67      0.72      0.69        39\n",
      "max_depth 164            0       0.68      0.69      0.68        39\n",
      "max_depth 165            0       0.73      0.69      0.71        39\n",
      "max_depth 166            0       0.71      0.69      0.70        39\n",
      "max_depth 167            0       0.71      0.69      0.70        39\n",
      "max_depth 168            0       0.64      0.69      0.67        39\n",
      "max_depth 169            0       0.71      0.69      0.70        39\n",
      "max_depth 170            0       0.69      0.69      0.69        39\n",
      "max_depth 171            0       0.69      0.69      0.69        39\n",
      "max_depth 172            0       0.66      0.69      0.68        39\n",
      "max_depth 173            0       0.67      0.72      0.69        39\n",
      "max_depth 174            0       0.69      0.69      0.69        39\n",
      "max_depth 175            0       0.73      0.69      0.71        39\n",
      "max_depth 176            0       0.75      0.69      0.72        39\n",
      "max_depth 177            0       0.71      0.69      0.70        39\n",
      "max_depth 178            0       0.73      0.69      0.71        39\n",
      "max_depth 179            0       0.68      0.69      0.68        39\n",
      "max_depth 180            0       0.64      0.72      0.67        39\n",
      "max_depth 181            0       0.69      0.69      0.69        39\n",
      "max_depth 182            0       0.61      0.69      0.65        39\n",
      "max_depth 183            0       0.64      0.72      0.67        39\n",
      "max_depth 184            0       0.71      0.69      0.70        39\n",
      "max_depth 185            0       0.68      0.72      0.70        39\n",
      "max_depth 186            0       0.73      0.69      0.71        39\n",
      "max_depth 187            0       0.67      0.72      0.69        39\n",
      "max_depth 188            0       0.71      0.69      0.70        39\n",
      "max_depth 189            0       0.73      0.69      0.71        39\n",
      "max_depth 190            0       0.73      0.69      0.71        39\n",
      "max_depth 191            0       0.65      0.72      0.68        39\n",
      "max_depth 192            0       0.73      0.69      0.71        39\n",
      "max_depth 193            0       0.69      0.69      0.69        39\n",
      "max_depth 194            0       0.75      0.69      0.72        39\n",
      "max_depth 195            0       0.73      0.69      0.71        39\n",
      "max_depth 196            0       0.64      0.69      0.67        39\n",
      "max_depth 197            0       0.73      0.69      0.71        39\n",
      "max_depth 198            0       0.68      0.69      0.68        39\n",
      "max_depth 199            0       0.67      0.72      0.69        39\n"
     ]
    }
   ],
   "source": [
    "#KNN\n",
    "def KNN(N):\n",
    "    model = KNeighborsClassifier(n_neighbors=N) # Define the\n",
    "    model.fit(X_train_norm, y_train) \n",
    "    y_pred  =  model.predict(X_test_norm)  #  Predicting  labels  for  our  test  set  using  model\n",
    " \n",
    "    re=evaluate_on_training_set(y_test,  y_pred).split(\"\\n\")[2]\n",
    "    print(\"max_depth \"+str(N),re)\n",
    "for i in range(10,200):\n",
    "    tree_exp(i)  "
   ]
  },
  {
   "cell_type": "code",
   "execution_count": 65,
   "metadata": {},
   "outputs": [
    {
     "name": "stdout",
     "output_type": "stream",
     "text": [
      "max_depth 1            0       0.68      0.67      0.68        39\n"
     ]
    }
   ],
   "source": [
    "# logistic\n",
    "def logist(N):\n",
    "    model  =  LogisticRegression(C=N,  multi_class='auto',  solver='lbfgs')\n",
    "    model.fit(X_train_norm, y_train) \n",
    "    y_pred  =  model.predict(X_test_norm)  #  Predicting  labels  for  our  test  set  using  model\n",
    "    re=evaluate_on_training_set(y_test,  y_pred).split(\"\\n\")[2]\n",
    "    print(\"max_depth \"+str(N),re)\n",
    "for i in range(1,2):\n",
    "    logist(i)  "
   ]
  },
  {
   "cell_type": "code",
   "execution_count": 41,
   "metadata": {},
   "outputs": [
    {
     "name": "stdout",
     "output_type": "stream",
     "text": [
      "              precision    recall  f1-score   support\n",
      "\n",
      "           0       0.58      0.74      0.65        39\n",
      "           1       0.75      0.88      0.81        34\n",
      "           2       0.74      0.56      0.64        71\n",
      "\n",
      "    accuracy                           0.69       144\n",
      "   macro avg       0.69      0.73      0.70       144\n",
      "weighted avg       0.70      0.69      0.68       144\n",
      "\n",
      "Confusion Matrix: \n",
      " [[29  0 10]\n",
      " [ 0 30  4]\n",
      " [21 10 40]]\n"
     ]
    }
   ],
   "source": [
    "#guasian\n",
    "model = GaussianNB()\n",
    "model.fit(X_train_norm, y_train) \n",
    "y_pred  =  model.predict(X_test_norm)  #  Predicting  labels  for  our  test  set  using  model\n",
    "evaluate_on_training_set(y_test,  y_pred) "
   ]
  },
  {
   "cell_type": "code",
   "execution_count": 90,
   "metadata": {},
   "outputs": [
    {
     "name": "stdout",
     "output_type": "stream",
     "text": [
      "max_depth 200            0       0.50      0.90      0.64        39\n",
      "max_depth 201            0       0.50      0.90      0.64        39\n",
      "max_depth 202            0       0.50      0.90      0.64        39\n",
      "max_depth 203            0       0.50      0.90      0.64        39\n",
      "max_depth 204            0       0.50      0.90      0.64        39\n",
      "max_depth 205            0       0.50      0.90      0.64        39\n"
     ]
    },
    {
     "ename": "KeyboardInterrupt",
     "evalue": "",
     "output_type": "error",
     "traceback": [
      "\u001b[1;31m---------------------------------------------------------------------------\u001b[0m",
      "\u001b[1;31mKeyboardInterrupt\u001b[0m                         Traceback (most recent call last)",
      "\u001b[1;32m<ipython-input-90-1599fb1f93a4>\u001b[0m in \u001b[0;36m<module>\u001b[1;34m()\u001b[0m\n\u001b[0;32m     10\u001b[0m     \u001b[0mprint\u001b[0m\u001b[1;33m(\u001b[0m\u001b[1;34m\"max_depth \"\u001b[0m\u001b[1;33m+\u001b[0m\u001b[0mstr\u001b[0m\u001b[1;33m(\u001b[0m\u001b[0mN\u001b[0m\u001b[1;33m)\u001b[0m\u001b[1;33m,\u001b[0m\u001b[0mre\u001b[0m\u001b[1;33m)\u001b[0m\u001b[1;33m\u001b[0m\u001b[0m\n\u001b[0;32m     11\u001b[0m \u001b[1;32mfor\u001b[0m \u001b[0mi\u001b[0m \u001b[1;32min\u001b[0m \u001b[0mnp\u001b[0m\u001b[1;33m.\u001b[0m\u001b[0marange\u001b[0m\u001b[1;33m(\u001b[0m\u001b[1;36m200\u001b[0m\u001b[1;33m,\u001b[0m\u001b[1;36m1000\u001b[0m\u001b[1;33m)\u001b[0m\u001b[1;33m:\u001b[0m\u001b[1;33m\u001b[0m\u001b[0m\n\u001b[1;32m---> 12\u001b[1;33m     \u001b[0mada\u001b[0m\u001b[1;33m(\u001b[0m\u001b[0mi\u001b[0m\u001b[1;33m)\u001b[0m\u001b[1;33m\u001b[0m\u001b[0m\n\u001b[0m",
      "\u001b[1;32m<ipython-input-90-1599fb1f93a4>\u001b[0m in \u001b[0;36mada\u001b[1;34m(N)\u001b[0m\n\u001b[0;32m      4\u001b[0m     \u001b[0mmodel\u001b[0m  \u001b[1;33m=\u001b[0m  \u001b[0mAdaBoostClassifier\u001b[0m\u001b[1;33m(\u001b[0m \u001b[0mn_estimators\u001b[0m\u001b[1;33m=\u001b[0m\u001b[0mN\u001b[0m\u001b[1;33m,\u001b[0m  \u001b[0mlearning_rate\u001b[0m\u001b[1;33m=\u001b[0m\u001b[1;36m0.001\u001b[0m\u001b[1;33m)\u001b[0m\u001b[1;33m\u001b[0m\u001b[0m\n\u001b[0;32m      5\u001b[0m     \u001b[1;31m#(base_estimator=GradientBoostingClassifier()  Define  the  model  wi\u001b[0m\u001b[1;33m\u001b[0m\u001b[1;33m\u001b[0m\u001b[0m\n\u001b[1;32m----> 6\u001b[1;33m     \u001b[0mmodel\u001b[0m\u001b[1;33m.\u001b[0m\u001b[0mfit\u001b[0m\u001b[1;33m(\u001b[0m\u001b[0mX_train_norm\u001b[0m\u001b[1;33m,\u001b[0m \u001b[0my_train\u001b[0m\u001b[1;33m)\u001b[0m \u001b[1;31m# Training the model\u001b[0m\u001b[1;33m\u001b[0m\u001b[0m\n\u001b[0m\u001b[0;32m      7\u001b[0m     \u001b[0my_pred\u001b[0m  \u001b[1;33m=\u001b[0m  \u001b[0mmodel\u001b[0m\u001b[1;33m.\u001b[0m\u001b[0mpredict\u001b[0m\u001b[1;33m(\u001b[0m\u001b[0mX_test_norm\u001b[0m\u001b[1;33m)\u001b[0m  \u001b[1;31m#  Predicting  labels  for  our  test  set  using trained\u001b[0m\u001b[1;33m\u001b[0m\u001b[0m\n\u001b[0;32m      8\u001b[0m     \u001b[0mevaluate_on_training_set\u001b[0m\u001b[1;33m(\u001b[0m\u001b[0my_test\u001b[0m\u001b[1;33m,\u001b[0m  \u001b[0my_pred\u001b[0m\u001b[1;33m)\u001b[0m  \u001b[1;31m#evaluate\u001b[0m\u001b[1;33m\u001b[0m\u001b[0m\n",
      "\u001b[1;32m~\\AppData\\Local\\Continuum\\anaconda3\\lib\\site-packages\\sklearn\\ensemble\\weight_boosting.py\u001b[0m in \u001b[0;36mfit\u001b[1;34m(self, X, y, sample_weight)\u001b[0m\n\u001b[0;32m    425\u001b[0m \u001b[1;33m\u001b[0m\u001b[0m\n\u001b[0;32m    426\u001b[0m         \u001b[1;31m# Fit\u001b[0m\u001b[1;33m\u001b[0m\u001b[1;33m\u001b[0m\u001b[0m\n\u001b[1;32m--> 427\u001b[1;33m         \u001b[1;32mreturn\u001b[0m \u001b[0msuper\u001b[0m\u001b[1;33m(\u001b[0m\u001b[1;33m)\u001b[0m\u001b[1;33m.\u001b[0m\u001b[0mfit\u001b[0m\u001b[1;33m(\u001b[0m\u001b[0mX\u001b[0m\u001b[1;33m,\u001b[0m \u001b[0my\u001b[0m\u001b[1;33m,\u001b[0m \u001b[0msample_weight\u001b[0m\u001b[1;33m)\u001b[0m\u001b[1;33m\u001b[0m\u001b[0m\n\u001b[0m\u001b[0;32m    428\u001b[0m \u001b[1;33m\u001b[0m\u001b[0m\n\u001b[0;32m    429\u001b[0m     \u001b[1;32mdef\u001b[0m \u001b[0m_validate_estimator\u001b[0m\u001b[1;33m(\u001b[0m\u001b[0mself\u001b[0m\u001b[1;33m)\u001b[0m\u001b[1;33m:\u001b[0m\u001b[1;33m\u001b[0m\u001b[0m\n",
      "\u001b[1;32m~\\AppData\\Local\\Continuum\\anaconda3\\lib\\site-packages\\sklearn\\ensemble\\weight_boosting.py\u001b[0m in \u001b[0;36mfit\u001b[1;34m(self, X, y, sample_weight)\u001b[0m\n\u001b[0;32m    148\u001b[0m                 \u001b[0mX\u001b[0m\u001b[1;33m,\u001b[0m \u001b[0my\u001b[0m\u001b[1;33m,\u001b[0m\u001b[1;33m\u001b[0m\u001b[0m\n\u001b[0;32m    149\u001b[0m                 \u001b[0msample_weight\u001b[0m\u001b[1;33m,\u001b[0m\u001b[1;33m\u001b[0m\u001b[0m\n\u001b[1;32m--> 150\u001b[1;33m                 random_state)\n\u001b[0m\u001b[0;32m    151\u001b[0m \u001b[1;33m\u001b[0m\u001b[0m\n\u001b[0;32m    152\u001b[0m             \u001b[1;31m# Early termination\u001b[0m\u001b[1;33m\u001b[0m\u001b[1;33m\u001b[0m\u001b[0m\n",
      "\u001b[1;32m~\\AppData\\Local\\Continuum\\anaconda3\\lib\\site-packages\\sklearn\\ensemble\\weight_boosting.py\u001b[0m in \u001b[0;36m_boost\u001b[1;34m(self, iboost, X, y, sample_weight, random_state)\u001b[0m\n\u001b[0;32m    484\u001b[0m         \"\"\"\n\u001b[0;32m    485\u001b[0m         \u001b[1;32mif\u001b[0m \u001b[0mself\u001b[0m\u001b[1;33m.\u001b[0m\u001b[0malgorithm\u001b[0m \u001b[1;33m==\u001b[0m \u001b[1;34m'SAMME.R'\u001b[0m\u001b[1;33m:\u001b[0m\u001b[1;33m\u001b[0m\u001b[0m\n\u001b[1;32m--> 486\u001b[1;33m             \u001b[1;32mreturn\u001b[0m \u001b[0mself\u001b[0m\u001b[1;33m.\u001b[0m\u001b[0m_boost_real\u001b[0m\u001b[1;33m(\u001b[0m\u001b[0miboost\u001b[0m\u001b[1;33m,\u001b[0m \u001b[0mX\u001b[0m\u001b[1;33m,\u001b[0m \u001b[0my\u001b[0m\u001b[1;33m,\u001b[0m \u001b[0msample_weight\u001b[0m\u001b[1;33m,\u001b[0m \u001b[0mrandom_state\u001b[0m\u001b[1;33m)\u001b[0m\u001b[1;33m\u001b[0m\u001b[0m\n\u001b[0m\u001b[0;32m    487\u001b[0m \u001b[1;33m\u001b[0m\u001b[0m\n\u001b[0;32m    488\u001b[0m         \u001b[1;32melse\u001b[0m\u001b[1;33m:\u001b[0m  \u001b[1;31m# elif self.algorithm == \"SAMME\":\u001b[0m\u001b[1;33m\u001b[0m\u001b[0m\n",
      "\u001b[1;32m~\\AppData\\Local\\Continuum\\anaconda3\\lib\\site-packages\\sklearn\\ensemble\\weight_boosting.py\u001b[0m in \u001b[0;36m_boost_real\u001b[1;34m(self, iboost, X, y, sample_weight, random_state)\u001b[0m\n\u001b[0;32m    494\u001b[0m         \u001b[0mestimator\u001b[0m \u001b[1;33m=\u001b[0m \u001b[0mself\u001b[0m\u001b[1;33m.\u001b[0m\u001b[0m_make_estimator\u001b[0m\u001b[1;33m(\u001b[0m\u001b[0mrandom_state\u001b[0m\u001b[1;33m=\u001b[0m\u001b[0mrandom_state\u001b[0m\u001b[1;33m)\u001b[0m\u001b[1;33m\u001b[0m\u001b[0m\n\u001b[0;32m    495\u001b[0m \u001b[1;33m\u001b[0m\u001b[0m\n\u001b[1;32m--> 496\u001b[1;33m         \u001b[0mestimator\u001b[0m\u001b[1;33m.\u001b[0m\u001b[0mfit\u001b[0m\u001b[1;33m(\u001b[0m\u001b[0mX\u001b[0m\u001b[1;33m,\u001b[0m \u001b[0my\u001b[0m\u001b[1;33m,\u001b[0m \u001b[0msample_weight\u001b[0m\u001b[1;33m=\u001b[0m\u001b[0msample_weight\u001b[0m\u001b[1;33m)\u001b[0m\u001b[1;33m\u001b[0m\u001b[0m\n\u001b[0m\u001b[0;32m    497\u001b[0m \u001b[1;33m\u001b[0m\u001b[0m\n\u001b[0;32m    498\u001b[0m         \u001b[0my_predict_proba\u001b[0m \u001b[1;33m=\u001b[0m \u001b[0mestimator\u001b[0m\u001b[1;33m.\u001b[0m\u001b[0mpredict_proba\u001b[0m\u001b[1;33m(\u001b[0m\u001b[0mX\u001b[0m\u001b[1;33m)\u001b[0m\u001b[1;33m\u001b[0m\u001b[0m\n",
      "\u001b[1;32m~\\AppData\\Local\\Continuum\\anaconda3\\lib\\site-packages\\sklearn\\tree\\tree.py\u001b[0m in \u001b[0;36mfit\u001b[1;34m(self, X, y, sample_weight, check_input, X_idx_sorted)\u001b[0m\n\u001b[0;32m    814\u001b[0m             \u001b[0msample_weight\u001b[0m\u001b[1;33m=\u001b[0m\u001b[0msample_weight\u001b[0m\u001b[1;33m,\u001b[0m\u001b[1;33m\u001b[0m\u001b[0m\n\u001b[0;32m    815\u001b[0m             \u001b[0mcheck_input\u001b[0m\u001b[1;33m=\u001b[0m\u001b[0mcheck_input\u001b[0m\u001b[1;33m,\u001b[0m\u001b[1;33m\u001b[0m\u001b[0m\n\u001b[1;32m--> 816\u001b[1;33m             X_idx_sorted=X_idx_sorted)\n\u001b[0m\u001b[0;32m    817\u001b[0m         \u001b[1;32mreturn\u001b[0m \u001b[0mself\u001b[0m\u001b[1;33m\u001b[0m\u001b[0m\n\u001b[0;32m    818\u001b[0m \u001b[1;33m\u001b[0m\u001b[0m\n",
      "\u001b[1;32m~\\AppData\\Local\\Continuum\\anaconda3\\lib\\site-packages\\sklearn\\tree\\tree.py\u001b[0m in \u001b[0;36mfit\u001b[1;34m(self, X, y, sample_weight, check_input, X_idx_sorted)\u001b[0m\n\u001b[0;32m    128\u001b[0m         \u001b[0mrandom_state\u001b[0m \u001b[1;33m=\u001b[0m \u001b[0mcheck_random_state\u001b[0m\u001b[1;33m(\u001b[0m\u001b[0mself\u001b[0m\u001b[1;33m.\u001b[0m\u001b[0mrandom_state\u001b[0m\u001b[1;33m)\u001b[0m\u001b[1;33m\u001b[0m\u001b[0m\n\u001b[0;32m    129\u001b[0m         \u001b[1;32mif\u001b[0m \u001b[0mcheck_input\u001b[0m\u001b[1;33m:\u001b[0m\u001b[1;33m\u001b[0m\u001b[0m\n\u001b[1;32m--> 130\u001b[1;33m             \u001b[0mX\u001b[0m \u001b[1;33m=\u001b[0m \u001b[0mcheck_array\u001b[0m\u001b[1;33m(\u001b[0m\u001b[0mX\u001b[0m\u001b[1;33m,\u001b[0m \u001b[0mdtype\u001b[0m\u001b[1;33m=\u001b[0m\u001b[0mDTYPE\u001b[0m\u001b[1;33m,\u001b[0m \u001b[0maccept_sparse\u001b[0m\u001b[1;33m=\u001b[0m\u001b[1;34m\"csc\"\u001b[0m\u001b[1;33m)\u001b[0m\u001b[1;33m\u001b[0m\u001b[0m\n\u001b[0m\u001b[0;32m    131\u001b[0m             \u001b[0my\u001b[0m \u001b[1;33m=\u001b[0m \u001b[0mcheck_array\u001b[0m\u001b[1;33m(\u001b[0m\u001b[0my\u001b[0m\u001b[1;33m,\u001b[0m \u001b[0mensure_2d\u001b[0m\u001b[1;33m=\u001b[0m\u001b[1;32mFalse\u001b[0m\u001b[1;33m,\u001b[0m \u001b[0mdtype\u001b[0m\u001b[1;33m=\u001b[0m\u001b[1;32mNone\u001b[0m\u001b[1;33m)\u001b[0m\u001b[1;33m\u001b[0m\u001b[0m\n\u001b[0;32m    132\u001b[0m             \u001b[1;32mif\u001b[0m \u001b[0missparse\u001b[0m\u001b[1;33m(\u001b[0m\u001b[0mX\u001b[0m\u001b[1;33m)\u001b[0m\u001b[1;33m:\u001b[0m\u001b[1;33m\u001b[0m\u001b[0m\n",
      "\u001b[1;32m~\\AppData\\Local\\Continuum\\anaconda3\\lib\\site-packages\\sklearn\\utils\\validation.py\u001b[0m in \u001b[0;36mcheck_array\u001b[1;34m(array, accept_sparse, accept_large_sparse, dtype, order, copy, force_all_finite, ensure_2d, allow_nd, ensure_min_samples, ensure_min_features, warn_on_dtype, estimator)\u001b[0m\n\u001b[0;32m    494\u001b[0m             \u001b[1;32mtry\u001b[0m\u001b[1;33m:\u001b[0m\u001b[1;33m\u001b[0m\u001b[0m\n\u001b[0;32m    495\u001b[0m                 \u001b[0mwarnings\u001b[0m\u001b[1;33m.\u001b[0m\u001b[0msimplefilter\u001b[0m\u001b[1;33m(\u001b[0m\u001b[1;34m'error'\u001b[0m\u001b[1;33m,\u001b[0m \u001b[0mComplexWarning\u001b[0m\u001b[1;33m)\u001b[0m\u001b[1;33m\u001b[0m\u001b[0m\n\u001b[1;32m--> 496\u001b[1;33m                 \u001b[0marray\u001b[0m \u001b[1;33m=\u001b[0m \u001b[0mnp\u001b[0m\u001b[1;33m.\u001b[0m\u001b[0masarray\u001b[0m\u001b[1;33m(\u001b[0m\u001b[0marray\u001b[0m\u001b[1;33m,\u001b[0m \u001b[0mdtype\u001b[0m\u001b[1;33m=\u001b[0m\u001b[0mdtype\u001b[0m\u001b[1;33m,\u001b[0m \u001b[0morder\u001b[0m\u001b[1;33m=\u001b[0m\u001b[0morder\u001b[0m\u001b[1;33m)\u001b[0m\u001b[1;33m\u001b[0m\u001b[0m\n\u001b[0m\u001b[0;32m    497\u001b[0m             \u001b[1;32mexcept\u001b[0m \u001b[0mComplexWarning\u001b[0m\u001b[1;33m:\u001b[0m\u001b[1;33m\u001b[0m\u001b[0m\n\u001b[0;32m    498\u001b[0m                 raise ValueError(\"Complex data not supported\\n\"\n",
      "\u001b[1;32m~\\AppData\\Local\\Continuum\\anaconda3\\lib\\site-packages\\numpy\\core\\_asarray.py\u001b[0m in \u001b[0;36masarray\u001b[1;34m(a, dtype, order)\u001b[0m\n\u001b[0;32m     83\u001b[0m \u001b[1;33m\u001b[0m\u001b[0m\n\u001b[0;32m     84\u001b[0m     \"\"\"\n\u001b[1;32m---> 85\u001b[1;33m     \u001b[1;32mreturn\u001b[0m \u001b[0marray\u001b[0m\u001b[1;33m(\u001b[0m\u001b[0ma\u001b[0m\u001b[1;33m,\u001b[0m \u001b[0mdtype\u001b[0m\u001b[1;33m,\u001b[0m \u001b[0mcopy\u001b[0m\u001b[1;33m=\u001b[0m\u001b[1;32mFalse\u001b[0m\u001b[1;33m,\u001b[0m \u001b[0morder\u001b[0m\u001b[1;33m=\u001b[0m\u001b[0morder\u001b[0m\u001b[1;33m)\u001b[0m\u001b[1;33m\u001b[0m\u001b[0m\n\u001b[0m\u001b[0;32m     86\u001b[0m \u001b[1;33m\u001b[0m\u001b[0m\n\u001b[0;32m     87\u001b[0m \u001b[1;33m\u001b[0m\u001b[0m\n",
      "\u001b[1;31mKeyboardInterrupt\u001b[0m: "
     ]
    }
   ],
   "source": [
    "#adaboost\n",
    "from sklearn.ensemble import GradientBoostingClassifier\n",
    "def ada(N):\n",
    "    model  =  AdaBoostClassifier( n_estimators=N,  learning_rate=0.001) \n",
    "    #(base_estimator=GradientBoostingClassifier()  Define  the  model  wi\n",
    "    model.fit(X_train_norm, y_train) # Training the model\n",
    "    y_pred  =  model.predict(X_test_norm)  #  Predicting  labels  for  our  test  set  using trained\n",
    "    evaluate_on_training_set(y_test,  y_pred)  #evaluate  \n",
    "    re=evaluate_on_training_set(y_test,  y_pred).split(\"\\n\")[2]\n",
    "    print(\"max_depth \"+str(N),re)\n",
    "for i in np.arange(200,1000):\n",
    "    ada(i)  "
   ]
  },
  {
   "cell_type": "code",
   "execution_count": 78,
   "metadata": {},
   "outputs": [
    {
     "name": "stdout",
     "output_type": "stream",
     "text": [
      "max_depth 0.01            0       0.66      0.74      0.70        39\n",
      "max_depth 0.02            0       0.61      0.72      0.66        39\n",
      "max_depth 0.03            0       0.58      0.72      0.64        39\n",
      "max_depth 0.04            0       0.57      0.69      0.63        39\n",
      "max_depth 0.05            0       0.57      0.67      0.61        39\n",
      "max_depth 0.060000000000000005            0       0.58      0.67      0.62        39\n",
      "max_depth 0.06999999999999999            0       0.56      0.69      0.62        39\n",
      "max_depth 0.08            0       0.57      0.64      0.60        39\n",
      "max_depth 0.09            0       0.57      0.64      0.60        39\n"
     ]
    }
   ],
   "source": [
    "for i in np.arange(0.01,0.1,0.01):\n",
    "    ada(i)"
   ]
  },
  {
   "cell_type": "code",
   "execution_count": 66,
   "metadata": {},
   "outputs": [
    {
     "name": "stdout",
     "output_type": "stream",
     "text": [
      "max_depth 10            0       0.61      0.72      0.66        39\n",
      "max_depth 11            0       0.57      0.64      0.60        39\n",
      "max_depth 12            0       0.67      0.72      0.69        39\n",
      "max_depth 13            0       0.65      0.67      0.66        39\n",
      "max_depth 14            0       0.66      0.69      0.68        39\n",
      "max_depth 15            0       0.75      0.77      0.76        39\n",
      "max_depth 16            0       0.62      0.67      0.64        39\n",
      "max_depth 17            0       0.72      0.72      0.72        39\n",
      "max_depth 18            0       0.67      0.62      0.64        39\n",
      "max_depth 19            0       0.69      0.64      0.67        39\n",
      "max_depth 20            0       0.67      0.67      0.67        39\n",
      "max_depth 21            0       0.75      0.69      0.72        39\n",
      "max_depth 22            0       0.81      0.64      0.71        39\n",
      "max_depth 23            0       0.68      0.59      0.63        39\n",
      "max_depth 24            0       0.67      0.67      0.67        39\n",
      "max_depth 25            0       0.73      0.69      0.71        39\n",
      "max_depth 26            0       0.81      0.64      0.71        39\n",
      "max_depth 27            0       0.69      0.64      0.67        39\n",
      "max_depth 28            0       0.74      0.74      0.74        39\n",
      "max_depth 29            0       0.75      0.62      0.68        39\n",
      "max_depth 30            0       0.73      0.62      0.67        39\n",
      "max_depth 31            0       0.78      0.64      0.70        39\n",
      "max_depth 32            0       0.68      0.67      0.68        39\n",
      "max_depth 33            0       0.76      0.67      0.71        39\n",
      "max_depth 34            0       0.77      0.69      0.73        39\n",
      "max_depth 35            0       0.70      0.67      0.68        39\n",
      "max_depth 36            0       0.69      0.69      0.69        39\n",
      "max_depth 37            0       0.70      0.72      0.71        39\n",
      "max_depth 38            0       0.70      0.72      0.71        39\n",
      "max_depth 39            0       0.69      0.64      0.67        39\n",
      "max_depth 40            0       0.74      0.67      0.70        39\n",
      "max_depth 41            0       0.72      0.72      0.72        39\n",
      "max_depth 42            0       0.73      0.69      0.71        39\n",
      "max_depth 43            0       0.66      0.69      0.68        39\n",
      "max_depth 44            0       0.76      0.64      0.69        39\n",
      "max_depth 45            0       0.68      0.67      0.68        39\n",
      "max_depth 46            0       0.74      0.67      0.70        39\n",
      "max_depth 47            0       0.76      0.67      0.71        39\n",
      "max_depth 48            0       0.68      0.67      0.68        39\n",
      "max_depth 49            0       0.74      0.67      0.70        39\n",
      "max_depth 50            0       0.66      0.64      0.65        39\n",
      "max_depth 51            0       0.81      0.64      0.71        39\n",
      "max_depth 52            0       0.75      0.69      0.72        39\n",
      "max_depth 53            0       0.65      0.62      0.63        39\n",
      "max_depth 54            0       0.74      0.67      0.70        39\n",
      "max_depth 55            0       0.80      0.62      0.70        39\n",
      "max_depth 56            0       0.74      0.67      0.70        39\n",
      "max_depth 57            0       0.71      0.62      0.66        39\n",
      "max_depth 58            0       0.72      0.67      0.69        39\n",
      "max_depth 59            0       0.69      0.69      0.69        39\n",
      "max_depth 60            0       0.74      0.67      0.70        39\n",
      "max_depth 61            0       0.79      0.69      0.74        39\n",
      "max_depth 62            0       0.79      0.69      0.74        39\n",
      "max_depth 63            0       0.73      0.62      0.67        39\n",
      "max_depth 64            0       0.74      0.67      0.70        39\n",
      "max_depth 65            0       0.70      0.67      0.68        39\n",
      "max_depth 66            0       0.81      0.67      0.73        39\n",
      "max_depth 67            0       0.74      0.67      0.70        39\n",
      "max_depth 68            0       0.76      0.67      0.71        39\n",
      "max_depth 69            0       0.75      0.69      0.72        39\n",
      "max_depth 70            0       0.82      0.69      0.75        39\n",
      "max_depth 71            0       0.76      0.67      0.71        39\n",
      "max_depth 72            0       0.79      0.69      0.74        39\n",
      "max_depth 73            0       0.70      0.72      0.71        39\n",
      "max_depth 74            0       0.68      0.72      0.70        39\n",
      "max_depth 75            0       0.69      0.64      0.67        39\n",
      "max_depth 76            0       0.69      0.64      0.67        39\n",
      "max_depth 77            0       0.73      0.69      0.71        39\n",
      "max_depth 78            0       0.72      0.72      0.72        39\n",
      "max_depth 79            0       0.68      0.67      0.68        39\n",
      "max_depth 80            0       0.74      0.67      0.70        39\n",
      "max_depth 81            0       0.76      0.67      0.71        39\n",
      "max_depth 82            0       0.75      0.69      0.72        39\n",
      "max_depth 83            0       0.71      0.62      0.66        39\n",
      "max_depth 84            0       0.76      0.72      0.74        39\n",
      "max_depth 85            0       0.71      0.64      0.68        39\n",
      "max_depth 86            0       0.72      0.67      0.69        39\n",
      "max_depth 87            0       0.71      0.69      0.70        39\n",
      "max_depth 88            0       0.76      0.67      0.71        39\n",
      "max_depth 89            0       0.71      0.64      0.68        39\n",
      "max_depth 90            0       0.77      0.69      0.73        39\n",
      "max_depth 91            0       0.78      0.72      0.75        39\n",
      "max_depth 92            0       0.73      0.69      0.71        39\n",
      "max_depth 93            0       0.73      0.69      0.71        39\n",
      "max_depth 94            0       0.75      0.69      0.72        39\n",
      "max_depth 95            0       0.76      0.67      0.71        39\n",
      "max_depth 96            0       0.71      0.69      0.70        39\n",
      "max_depth 97            0       0.72      0.67      0.69        39\n",
      "max_depth 98            0       0.71      0.69      0.70        39\n",
      "max_depth 99            0       0.78      0.72      0.75        39\n",
      "max_depth 100            0       0.77      0.69      0.73        39\n",
      "max_depth 101            0       0.72      0.67      0.69        39\n",
      "max_depth 102            0       0.79      0.77      0.78        39\n",
      "max_depth 103            0       0.75      0.69      0.72        39\n",
      "max_depth 104            0       0.74      0.67      0.70        39\n",
      "max_depth 105            0       0.77      0.69      0.73        39\n",
      "max_depth 106            0       0.79      0.67      0.72        39\n",
      "max_depth 107            0       0.68      0.64      0.66        39\n",
      "max_depth 108            0       0.78      0.74      0.76        39\n",
      "max_depth 109            0       0.74      0.72      0.73        39\n",
      "max_depth 110            0       0.74      0.64      0.68        39\n",
      "max_depth 111            0       0.73      0.69      0.71        39\n",
      "max_depth 112            0       0.72      0.67      0.69        39\n",
      "max_depth 113            0       0.77      0.69      0.73        39\n",
      "max_depth 114            0       0.77      0.62      0.69        39\n",
      "max_depth 115            0       0.76      0.64      0.69        39\n",
      "max_depth 116            0       0.71      0.69      0.70        39\n",
      "max_depth 117            0       0.70      0.67      0.68        39\n",
      "max_depth 118            0       0.81      0.67      0.73        39\n",
      "max_depth 119            0       0.68      0.64      0.66        39\n",
      "max_depth 120            0       0.73      0.69      0.71        39\n",
      "max_depth 121            0       0.76      0.67      0.71        39\n",
      "max_depth 122            0       0.77      0.69      0.73        39\n",
      "max_depth 123            0       0.71      0.64      0.68        39\n",
      "max_depth 124            0       0.72      0.67      0.69        39\n",
      "max_depth 125            0       0.77      0.62      0.69        39\n",
      "max_depth 126            0       0.78      0.72      0.75        39\n",
      "max_depth 127            0       0.71      0.64      0.68        39\n",
      "max_depth 128            0       0.76      0.72      0.74        39\n",
      "max_depth 129            0       0.77      0.69      0.73        39\n",
      "max_depth 130            0       0.70      0.67      0.68        39\n",
      "max_depth 131            0       0.72      0.72      0.72        39\n"
     ]
    },
    {
     "name": "stdout",
     "output_type": "stream",
     "text": [
      "max_depth 132            0       0.72      0.67      0.69        39\n",
      "max_depth 133            0       0.75      0.69      0.72        39\n",
      "max_depth 134            0       0.74      0.67      0.70        39\n",
      "max_depth 135            0       0.73      0.69      0.71        39\n",
      "max_depth 136            0       0.73      0.69      0.71        39\n",
      "max_depth 137            0       0.72      0.67      0.69        39\n",
      "max_depth 138            0       0.78      0.72      0.75        39\n",
      "max_depth 139            0       0.80      0.72      0.76        39\n",
      "max_depth 140            0       0.73      0.69      0.71        39\n",
      "max_depth 141            0       0.74      0.67      0.70        39\n",
      "max_depth 142            0       0.74      0.67      0.70        39\n",
      "max_depth 143            0       0.67      0.62      0.64        39\n",
      "max_depth 144            0       0.71      0.69      0.70        39\n",
      "max_depth 145            0       0.75      0.69      0.72        39\n",
      "max_depth 146            0       0.78      0.64      0.70        39\n",
      "max_depth 147            0       0.71      0.64      0.68        39\n",
      "max_depth 148            0       0.74      0.67      0.70        39\n",
      "max_depth 149            0       0.69      0.64      0.67        39\n",
      "max_depth 150            0       0.78      0.64      0.70        39\n",
      "max_depth 151            0       0.72      0.74      0.73        39\n",
      "max_depth 152            0       0.75      0.62      0.68        39\n",
      "max_depth 153            0       0.76      0.67      0.71        39\n",
      "max_depth 154            0       0.71      0.64      0.68        39\n",
      "max_depth 155            0       0.72      0.67      0.69        39\n",
      "max_depth 156            0       0.77      0.69      0.73        39\n",
      "max_depth 157            0       0.78      0.72      0.75        39\n",
      "max_depth 158            0       0.74      0.67      0.70        39\n",
      "max_depth 159            0       0.76      0.67      0.71        39\n",
      "max_depth 160            0       0.79      0.67      0.72        39\n",
      "max_depth 161            0       0.71      0.64      0.68        39\n",
      "max_depth 162            0       0.75      0.69      0.72        39\n",
      "max_depth 163            0       0.76      0.72      0.74        39\n",
      "max_depth 164            0       0.74      0.64      0.68        39\n",
      "max_depth 165            0       0.79      0.67      0.72        39\n",
      "max_depth 166            0       0.78      0.64      0.70        39\n",
      "max_depth 167            0       0.73      0.69      0.71        39\n",
      "max_depth 168            0       0.74      0.72      0.73        39\n",
      "max_depth 169            0       0.79      0.67      0.72        39\n",
      "max_depth 170            0       0.76      0.72      0.74        39\n",
      "max_depth 171            0       0.76      0.67      0.71        39\n",
      "max_depth 172            0       0.69      0.69      0.69        39\n",
      "max_depth 173            0       0.76      0.67      0.71        39\n",
      "max_depth 174            0       0.76      0.67      0.71        39\n",
      "max_depth 175            0       0.75      0.69      0.72        39\n",
      "max_depth 176            0       0.77      0.69      0.73        39\n",
      "max_depth 177            0       0.74      0.74      0.74        39\n",
      "max_depth 178            0       0.74      0.72      0.73        39\n",
      "max_depth 179            0       0.76      0.72      0.74        39\n",
      "max_depth 180            0       0.74      0.67      0.70        39\n",
      "max_depth 181            0       0.76      0.72      0.74        39\n",
      "max_depth 182            0       0.71      0.62      0.66        39\n",
      "max_depth 183            0       0.68      0.67      0.68        39\n",
      "max_depth 184            0       0.75      0.69      0.72        39\n",
      "max_depth 185            0       0.78      0.72      0.75        39\n",
      "max_depth 186            0       0.77      0.69      0.73        39\n",
      "max_depth 187            0       0.77      0.69      0.73        39\n",
      "max_depth 188            0       0.79      0.69      0.74        39\n",
      "max_depth 189            0       0.78      0.72      0.75        39\n",
      "max_depth 190            0       0.74      0.72      0.73        39\n",
      "max_depth 191            0       0.77      0.69      0.73        39\n",
      "max_depth 192            0       0.76      0.67      0.71        39\n",
      "max_depth 193            0       0.75      0.69      0.72        39\n",
      "max_depth 194            0       0.77      0.69      0.73        39\n",
      "max_depth 195            0       0.74      0.64      0.68        39\n",
      "max_depth 196            0       0.74      0.67      0.70        39\n",
      "max_depth 197            0       0.79      0.69      0.74        39\n",
      "max_depth 198            0       0.74      0.67      0.70        39\n",
      "max_depth 199            0       0.70      0.72      0.71        39\n"
     ]
    }
   ],
   "source": [
    "#random forest\n",
    "def forest(N):\n",
    "    model  =  RandomForestClassifier(n_estimators  =  N)  #  Define  the  model\n",
    "    model.fit(X_train_norm, y_train) # Training the model\n",
    "    y_pred  =  model.predict(X_test_norm)  #  Predicting  labels  for  our  test  set  using trained\n",
    "  \n",
    "    re=evaluate_on_training_set(y_test,  y_pred).split(\"\\n\")[2]\n",
    "    print(\"max_depth \"+str(N),re)\n",
    "for i in range(10,200):\n",
    "    forest(i)  "
   ]
  },
  {
   "cell_type": "code",
   "execution_count": null,
   "metadata": {},
   "outputs": [],
   "source": []
  }
 ],
 "metadata": {
  "colab": {
   "collapsed_sections": [],
   "name": "Classification lab no solution",
   "provenance": []
  },
  "kernelspec": {
   "display_name": "Python 3",
   "language": "python",
   "name": "python3"
  },
  "language_info": {
   "codemirror_mode": {
    "name": "ipython",
    "version": 3
   },
   "file_extension": ".py",
   "mimetype": "text/x-python",
   "name": "python",
   "nbconvert_exporter": "python",
   "pygments_lexer": "ipython3",
   "version": "3.6.4"
  }
 },
 "nbformat": 4,
 "nbformat_minor": 1
}
