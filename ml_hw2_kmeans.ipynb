{
 "cells": [
  {
   "cell_type": "code",
   "execution_count": 2,
   "metadata": {},
   "outputs": [],
   "source": [
    "import numpy as np"
   ]
  },
  {
   "cell_type": "code",
   "execution_count": 3,
   "metadata": {},
   "outputs": [],
   "source": [
    "file = open(r\"C:\\Users\\gaoyu\\Desktop\\hw2\\HW2_data\\HW2_data\\1\\hw2-image.txt\",\"r+\")  \n",
    "data_ls=[]\n",
    "for i in file.read().split(\"\\n\")[:-1]:\n",
    "    temp_ls=[]\n",
    "    for j in i.split(\" \"):\n",
    "        temp_ls.append(int(j))\n",
    "    data_ls.append(temp_ls)\n",
    "data=np.asarray(data_ls)"
   ]
  },
  {
   "cell_type": "code",
   "execution_count": 4,
   "metadata": {},
   "outputs": [
    {
     "data": {
      "text/plain": [
       "array([129, 108,  61])"
      ]
     },
     "execution_count": 4,
     "metadata": {},
     "output_type": "execute_result"
    }
   ],
   "source": [
    "data[0]"
   ]
  },
  {
   "cell_type": "code",
   "execution_count": 5,
   "metadata": {},
   "outputs": [],
   "source": [
    "mean_init=np.array([[255,255,255],\n",
    "[255,0,0],\n",
    "[128,0,0],\n",
    "[0,255,0],\n",
    "[0,128,0],\n",
    "[0,0,255],\n",
    "[0,0,128],\n",
    "[0,0,0]])"
   ]
  },
  {
   "cell_type": "code",
   "execution_count": 6,
   "metadata": {},
   "outputs": [
    {
     "data": {
      "text/plain": [
       "array([255, 255, 255])"
      ]
     },
     "execution_count": 6,
     "metadata": {},
     "output_type": "execute_result"
    }
   ],
   "source": [
    "mean_init[0]"
   ]
  },
  {
   "cell_type": "code",
   "execution_count": 7,
   "metadata": {},
   "outputs": [],
   "source": [
    "#Euclidean distance dist 𝑥, 𝑦 = |𝑥 − 𝑦|2\n",
    "#dist = numpy.linalg.norm(a-b)\n",
    "#loss: sum of square distance\n",
    "# k: number of clusters init:8"
   ]
  },
  {
   "cell_type": "code",
   "execution_count": 8,
   "metadata": {},
   "outputs": [],
   "source": [
    "def kmeans_one_iter(data,k,mean):\n",
    "    #create new clusters based on k\n",
    "    cluster_ls=[]\n",
    "    for clusterID in range(k):\n",
    "        new_cluster=[]\n",
    "        cluster_ls.append(new_cluster)\n",
    "    #print(len(cluster_ls))\n",
    "    \n",
    "    #iterarte all data points and asiign cluster\n",
    "    sum_dist=0\n",
    "    for dataID in data:\n",
    "        dist_ls=[]\n",
    "        for meanID in mean:\n",
    "            dist = np.linalg.norm(meanID-dataID)\n",
    "            dist_ls.append(dist)\n",
    "        sum_dist+=min(dist_ls)\n",
    "        cluster_ls[np.argmin(dist_ls)].append(dataID)\n",
    "    mean_ls=[]\n",
    "    \n",
    "    #get new means\n",
    "    for clusterID in cluster_ls:\n",
    "        if len(clusterID)==0:\n",
    "            pass\n",
    "        else:\n",
    "            mean_ls.append(np.mean(np.array(clusterID),axis=0))\n",
    "    mean_ls=np.array(mean_ls)\n",
    "    new_k=len(mean_ls)\n",
    "    \n",
    "    return mean_ls,new_k,sum_dist"
   ]
  },
  {
   "cell_type": "code",
   "execution_count": 79,
   "metadata": {},
   "outputs": [
    {
     "data": {
      "text/plain": [
       "(array([[226.2480551 , 208.85269736, 194.33031501],\n",
       "        [203.59562026, 135.48836631,  77.5030484 ],\n",
       "        [127.34619478,  64.4117936 ,  21.9861835 ],\n",
       "        [ 92.93181818,  94.45454545,  89.30113636],\n",
       "        [ 56.16536313,  56.91284916,  79.27039106],\n",
       "        [ 29.20886167,  23.7493684 ,  22.21048579]]), 6)"
      ]
     },
     "execution_count": 79,
     "metadata": {},
     "output_type": "execute_result"
    }
   ],
   "source": [
    "kmeans_one_iter(data,k,mean_init)"
   ]
  },
  {
   "cell_type": "code",
   "execution_count": 112,
   "metadata": {},
   "outputs": [],
   "source": [
    "def kmeans(data,k,mean,num_iter):\n",
    "    sum_dist_ls=[]\n",
    "    for i in range(num_iter):\n",
    "        mean,k,sum_dist=kmeans_one_iter(data,k,mean)\n",
    "        if i%10==0:\n",
    "            print(\"iter \"+str(i)+\" :\")\n",
    "            print(\"sum distance: \"+str(sum_dist))\n",
    "        sum_dist_ls.append(sum_dist)\n",
    "    return sum_dist_ls"
   ]
  },
  {
   "cell_type": "code",
   "execution_count": 113,
   "metadata": {},
   "outputs": [
    {
     "name": "stdout",
     "output_type": "stream",
     "text": [
      "iter 0 :\n",
      "sum distance: 14442779.263655432\n",
      "iter 10 :\n",
      "sum distance: 4393300.281091905\n",
      "iter 20 :\n",
      "sum distance: 4390808.08782009\n",
      "iter 30 :\n",
      "sum distance: 4135941.8981629526\n",
      "iter 40 :\n",
      "sum distance: 4135029.136105607\n",
      "iter 50 :\n",
      "sum distance: 4135181.7665198944\n",
      "iter 60 :\n",
      "sum distance: 4135181.7665198944\n",
      "iter 70 :\n",
      "sum distance: 4135181.7665198944\n",
      "iter 80 :\n",
      "sum distance: 4135181.7665198944\n",
      "iter 90 :\n",
      "sum distance: 4135181.7665198944\n"
     ]
    }
   ],
   "source": [
    "num_iter=100\n",
    "k=8\n",
    "loss_ls=kmeans(data,k,mean_init,num_iter)"
   ]
  },
  {
   "cell_type": "code",
   "execution_count": 114,
   "metadata": {},
   "outputs": [
    {
     "data": {
      "text/plain": [
       "Text(0,0.5,'loss')"
      ]
     },
     "execution_count": 114,
     "metadata": {},
     "output_type": "execute_result"
    },
    {
     "data": {
      "image/png": "[encoded data removed]",
      "text/plain": [
       "<Figure size 432x288 with 1 Axes>"
      ]
     },
     "metadata": {},
     "output_type": "display_data"
    }
   ],
   "source": [
    "import matplotlib.pyplot as plt\n",
    "plt.plot(list(range(100)),loss_ls)#valia\n",
    "plt.xlabel('iterations')\n",
    "plt.ylabel('loss')"
   ]
  },
  {
   "cell_type": "markdown",
   "metadata": {},
   "source": [
    "### final clusters (after 40 iters)"
   ]
  },
  {
   "cell_type": "code",
   "execution_count": 9,
   "metadata": {},
   "outputs": [],
   "source": [
    "# when iteration=40. converges.\n",
    "k=8\n",
    "mean=mean_init\n",
    "for i in range(40):\n",
    "    mean,k,sum_dist=kmeans_one_iter(data,k,mean)"
   ]
  },
  {
   "cell_type": "code",
   "execution_count": 10,
   "metadata": {},
   "outputs": [
    {
     "data": {
      "text/plain": [
       "(array([[241.2002838 , 238.59274275, 233.82525846],\n",
       "        [194.36554622, 136.26621586,  90.86095063],\n",
       "        [136.26703226,  61.08503751,  10.09412011],\n",
       "        [157.23074481,  97.53891862,  51.3905924 ],\n",
       "        [ 78.92800872,  37.10900263,  13.07137195],\n",
       "        [ 25.97800232,  23.23575423,  23.60599063]]), 6)"
      ]
     },
     "execution_count": 10,
     "metadata": {},
     "output_type": "execute_result"
    }
   ],
   "source": [
    "mean,k"
   ]
  },
  {
   "cell_type": "code",
   "execution_count": 12,
   "metadata": {},
   "outputs": [],
   "source": [
    "#create new clusters based on k\n",
    "cluster_ls=[]\n",
    "for clusterID in range(k):\n",
    "    new_cluster=[]\n",
    "    cluster_ls.append(new_cluster)\n",
    "#print(len(cluster_ls))\n",
    "\n",
    "#iterarte all data points and asiign cluster\n",
    "for dataID in data:\n",
    "    dist_ls=[]\n",
    "    for meanID in mean:\n",
    "        dist = np.linalg.norm(meanID-dataID)\n",
    "        dist_ls.append(dist)\n",
    "    sum_dist+=min(dist_ls)\n",
    "    cluster_ls[np.argmin(dist_ls)].append(dataID)"
   ]
  },
  {
   "cell_type": "markdown",
   "metadata": {},
   "source": [
    "### num of pixels inside each cluster"
   ]
  },
  {
   "cell_type": "code",
   "execution_count": 13,
   "metadata": {},
   "outputs": [
    {
     "name": "stdout",
     "output_type": "stream",
     "text": [
      "4932\n",
      "15215\n",
      "52530\n",
      "22052\n",
      "40366\n",
      "74917\n"
     ]
    }
   ],
   "source": [
    "for i in cluster_ls:\n",
    "    print(len(i))"
   ]
  },
  {
   "cell_type": "markdown",
   "metadata": {},
   "source": [
    "### eucliean---B\n",
    "\n",
    "### Manhattan distance---C\n",
    "\n",
    "### l∞ distance is A"
   ]
  },
  {
   "cell_type": "markdown",
   "metadata": {},
   "source": [
    "## K-Means Advantages :\n",
    "\n",
    "1) If variables are huge, then  K-Means most of the times computationally faster if we keep k smalls.\n",
    " K-medoids runs `O(n^2*k*i)` in time; k-means runs in `O(n*k*i)` in time.\n",
    " n stands for number of data in the cluster, k stands for number of cluster, i stands for dimension\n",
    "\n",
    "2) K-Means produce tighter clusters than hierarchical clustering, especially if the clusters are globular.\n",
    "\n",
    "\n",
    "## K-Means Disadvantages :\n",
    "\n",
    "1) Difficult to predict K-Value.\n",
    "2) With global cluster, it didn't work well.\n",
    "3) Different initial partitions can result in different final clusters.\n",
    "4) It does not work well with clusters (in the original data) of Different size and Different densit\n",
    "3) sensitive to outliers\n",
    "## K-Medoi Advantages :\n",
    "1)  K-medoids have more interpretability if we want to pick a representation. however, k-mean cannot visualize.\n",
    "2) less sensitive to outliers or noise.\n",
    "3) selects the most centered member belonging to the cluster.\n",
    "4)for k-means, the distance measure must be consistent with the __mean__, otherwise, it may fail to converge.\n",
    "    however, for k-medoids can use any kinds of measurement.\n",
    "\n",
    "## K-Medoi Disadvantages :\n",
    "1) requires precision and is complex enough.\n"
   ]
  },
  {
   "cell_type": "code",
   "execution_count": null,
   "metadata": {},
   "outputs": [],
   "source": []
  }
 ],
 "metadata": {
  "kernelspec": {
   "display_name": "Python 3",
   "language": "python",
   "name": "python3"
  },
  "language_info": {
   "codemirror_mode": {
    "name": "ipython",
    "version": 3
   },
   "file_extension": ".py",
   "mimetype": "text/x-python",
   "name": "python",
   "nbconvert_exporter": "python",
   "pygments_lexer": "ipython3",
   "version": "3.6.4"
  }
 },
 "nbformat": 4,
 "nbformat_minor": 2
}
