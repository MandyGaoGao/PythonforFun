{
 "cells": [
  {
   "cell_type": "code",
   "execution_count": 31,
   "metadata": {},
   "outputs": [],
   "source": [
    "#read file from csv\n",
    "import os\n",
    "import pandas as pd\n",
    "def get_inputs_to_dic():\n",
    "    input_dic=dict()\n",
    "    for root, dirs, files in os.walk(\".\", topdown=False):\n",
    "        #for name in files:\n",
    "         #   print(os.path.join(root, name))\n",
    "        for name in files:\n",
    "            p=os.path.join(root, name)\n",
    "            if p.find(\"input\")!=-1:\n",
    "                position=p.find(\"input_\")\n",
    "                position1=p.find(\"\\\\\",2)\n",
    "                df_name=p[position:position1]\n",
    "                print(df_name)\n",
    "                df=pd.read_csv(p)\n",
    "                input_dic[df_name]=df\n",
    "    return input_dic\n",
    "            "
   ]
  },
  {
   "cell_type": "code",
   "execution_count": 32,
   "metadata": {},
   "outputs": [
    {
     "name": "stdout",
     "output_type": "stream",
     "text": [
      "input_alabaster\n",
      "input_bernstein\n",
      "input_comwealth\n"
     ]
    }
   ],
   "source": [
    "input_dic=get_inputs_to_dic()"
   ]
  },
  {
   "cell_type": "code",
   "execution_count": 64,
   "metadata": {},
   "outputs": [],
   "source": [
    "# form mapping dictionary\n",
    "def get_dic():\n",
    "    all_dic=dict()\n",
    "    for root, dirs, files in os.walk(\".\", topdown=False):\n",
    "        #for name in files:\n",
    "         #   print(os.path.join(root, name))\n",
    "        for name in files:\n",
    "            p=os.path.join(root, name)\n",
    "            if p.find(\"mapping\")!=-1:\n",
    "                print(p)\n",
    "                M=pd.read_csv(p)\n",
    "                all_dic[\"BB_ID\"]=dict(zip(M.BB_ID,M.Security))## BBID-->Security\n",
    "                all_dic[\"GENERIC\"]=dict(zip(M.GENERIC,M.Security))## GenericTicker\t-->Security\n",
    "                all_dic[\"RIC\"]=dict(zip(M.RIC,M.Security))\n",
    "    return all_dic          "
   ]
  },
  {
   "cell_type": "code",
   "execution_count": 87,
   "metadata": {},
   "outputs": [],
   "source": [
    "def format_input(input_dic,all_dic):\n",
    "    for i in input_dic.keys():\n",
    "        #print(input_dic[i].dtypes)\n",
    "        col_ls=input_dic[i].columns\n",
    "        print(col_ls)\n",
    "        col_to_drop=[]\n",
    "        for j in col_ls:\n",
    "            if (j.find(\"Beta\")!=-1):\n",
    "                beta_col=j\n",
    "            elif (j.find(\"Date\")!=-1):\n",
    "                date_col=j\n",
    "            elif (j.find('BB_ID')!=-1):\n",
    "                security_col=j\n",
    "                security_type=\"BB_ID\"\n",
    "            elif (j.find('GenericTicker')!=-1):\n",
    "                security_col=j\n",
    "                security_type=\"GENERIC\"\n",
    "            elif (j.find('RIC')!=-1):\n",
    "                security_col=j\n",
    "                security_type=\"RIC\"\n",
    "            elif (j.find('Price')!=-1) and (j.find('EUR')==-1):\n",
    "                price_col=j\n",
    "            elif (j.find('Quantity')!=-1) or (j.find('Qty')==0):\n",
    "                quantity_col=j\n",
    "\n",
    "            else:\n",
    "                col_to_drop.append(j)\n",
    "        # now drop col\n",
    "        input_dic[i]=input_dic[i].drop(columns=col_to_drop)\n",
    "        #change security type to general\n",
    "        input_dic[i]=input_dic[i].replace({security_col: all_dic[security_type]})\n",
    "        #rename the left\n",
    "        input_dic[i].rename(columns={security_col:'Security',price_col:\"Price_\"+i,\n",
    "                          quantity_col:\"Quantity_\"+i, beta_col:\"Beta_\"+i,date_col:\"Date_\"+i\n",
    "                         }, inplace=True)\n",
    "    return input_dic\n",
    "    \n",
    "            "
   ]
  },
  {
   "cell_type": "code",
   "execution_count": null,
   "metadata": {},
   "outputs": [],
   "source": [
    "x=input()"
   ]
  },
  {
   "cell_type": "code",
   "execution_count": 90,
   "metadata": {},
   "outputs": [
    {
     "name": "stdout",
     "output_type": "stream",
     "text": [
      ".\\mapping\\MappingTable.csv\n",
      "input_alabaster\n",
      "input_bernstein\n",
      "input_comwealth\n",
      "Index(['BB_ID', 'Date', 'PriceUSD', 'PriceEUR', 'Qty', 'MktAdjFactor',\n",
      "       'AllocationID', 'OrderQty', 'FilledQty', 'FinancingSpread', 'Beta'],\n",
      "      dtype='object')\n",
      "Index(['Date', 'GenericTicker', 'Price', 'Beta', 'MTMValue', 'Quantity',\n",
      "       'Currency', 'Financing', 'SubAccount'],\n",
      "      dtype='object')\n",
      "Index(['RIC$Code', 'Trade$Date', 'Executed$Price', 'Executed$Quantity',\n",
      "       'Beta$Hundreds'],\n",
      "      dtype='object')\n"
     ]
    },
    {
     "data": {
      "text/html": [
       "<div>\n",
       "<style scoped>\n",
       "    .dataframe tbody tr th:only-of-type {\n",
       "        vertical-align: middle;\n",
       "    }\n",
       "\n",
       "    .dataframe tbody tr th {\n",
       "        vertical-align: top;\n",
       "    }\n",
       "\n",
       "    .dataframe thead th {\n",
       "        text-align: right;\n",
       "    }\n",
       "</style>\n",
       "<table border=\"1\" class=\"dataframe\">\n",
       "  <thead>\n",
       "    <tr style=\"text-align: right;\">\n",
       "      <th></th>\n",
       "      <th>Security</th>\n",
       "      <th>Date_input_alabaster</th>\n",
       "      <th>Price_input_alabaster</th>\n",
       "      <th>Quantity_input_alabaster</th>\n",
       "      <th>Beta_input_alabaster</th>\n",
       "    </tr>\n",
       "  </thead>\n",
       "  <tbody>\n",
       "    <tr>\n",
       "      <th>0</th>\n",
       "      <td>AAN Equity</td>\n",
       "      <td>1/1/2016</td>\n",
       "      <td>30.05</td>\n",
       "      <td>19308</td>\n",
       "      <td>1.30</td>\n",
       "    </tr>\n",
       "    <tr>\n",
       "      <th>1</th>\n",
       "      <td>AAP Equity</td>\n",
       "      <td>1/1/2016</td>\n",
       "      <td>164.05</td>\n",
       "      <td>162</td>\n",
       "      <td>0.88</td>\n",
       "    </tr>\n",
       "  </tbody>\n",
       "</table>\n",
       "</div>"
      ],
      "text/plain": [
       "     Security Date_input_alabaster  Price_input_alabaster  \\\n",
       "0  AAN Equity             1/1/2016                  30.05   \n",
       "1  AAP Equity             1/1/2016                 164.05   \n",
       "\n",
       "   Quantity_input_alabaster  Beta_input_alabaster  \n",
       "0                     19308                  1.30  \n",
       "1                       162                  0.88  "
      ]
     },
     "execution_count": 90,
     "metadata": {},
     "output_type": "execute_result"
    }
   ],
   "source": [
    "all_dic=get_dic()\n",
    "input_dic=get_inputs_to_dic()\n",
    "format_input=format_input(input_dic,all_dic)\n",
    "format_input['input_alabaster'].head(2)\n",
    "\n",
    "\n"
   ]
  },
  {
   "cell_type": "code",
   "execution_count": 98,
   "metadata": {},
   "outputs": [
    {
     "data": {
      "text/html": [
       "<div>\n",
       "<style scoped>\n",
       "    .dataframe tbody tr th:only-of-type {\n",
       "        vertical-align: middle;\n",
       "    }\n",
       "\n",
       "    .dataframe tbody tr th {\n",
       "        vertical-align: top;\n",
       "    }\n",
       "\n",
       "    .dataframe thead th {\n",
       "        text-align: right;\n",
       "    }\n",
       "</style>\n",
       "<table border=\"1\" class=\"dataframe\">\n",
       "  <thead>\n",
       "    <tr style=\"text-align: right;\">\n",
       "      <th></th>\n",
       "      <th>Security</th>\n",
       "      <th>Date_input_alabaster</th>\n",
       "      <th>Price_input_alabaster</th>\n",
       "      <th>Quantity_input_alabaster</th>\n",
       "      <th>Beta_input_alabaster</th>\n",
       "    </tr>\n",
       "  </thead>\n",
       "  <tbody>\n",
       "    <tr>\n",
       "      <th>0</th>\n",
       "      <td>AAN Equity</td>\n",
       "      <td>1/1/2016</td>\n",
       "      <td>30.05</td>\n",
       "      <td>19308</td>\n",
       "      <td>1.30</td>\n",
       "    </tr>\n",
       "    <tr>\n",
       "      <th>1</th>\n",
       "      <td>AAP Equity</td>\n",
       "      <td>1/1/2016</td>\n",
       "      <td>164.05</td>\n",
       "      <td>162</td>\n",
       "      <td>0.88</td>\n",
       "    </tr>\n",
       "  </tbody>\n",
       "</table>\n",
       "</div>"
      ],
      "text/plain": [
       "     Security Date_input_alabaster  Price_input_alabaster  \\\n",
       "0  AAN Equity             1/1/2016                  30.05   \n",
       "1  AAP Equity             1/1/2016                 164.05   \n",
       "\n",
       "   Quantity_input_alabaster  Beta_input_alabaster  \n",
       "0                     19308                  1.30  \n",
       "1                       162                  0.88  "
      ]
     },
     "execution_count": 98,
     "metadata": {},
     "output_type": "execute_result"
    }
   ],
   "source": [
    "#clean data\n",
    "def clean_input(format_input):\n",
    "    for i in input_dic.keys():\n",
    "        if input_dic[i].isnull().values.any()==True:\n",
    "            input_dic[i] = input_dic[i][input_dic[i].notnull()]\n",
    "    return input_dic\n",
    "\n",
    "clean_input(format_input)['input_alabaster'].head(2)\n",
    "\n"
   ]
  },
  {
   "cell_type": "code",
   "execution_count": 99,
   "metadata": {},
   "outputs": [],
   "source": [
    "clean_input=clean_input(format_input)"
   ]
  },
  {
   "cell_type": "code",
   "execution_count": 101,
   "metadata": {},
   "outputs": [
    {
     "data": {
      "text/plain": [
       "3"
      ]
     },
     "execution_count": 101,
     "metadata": {},
     "output_type": "execute_result"
    }
   ],
   "source": [
    "len(clean_input)"
   ]
  },
  {
   "cell_type": "code",
   "execution_count": null,
   "metadata": {},
   "outputs": [],
   "source": [
    "#operation\n",
    "total=len(clean_input)\n",
    "total_ls=clean_input.keys()\n",
    "for i in range(total):\n",
    "    \n",
    "for i in clean_input.keys():\n",
    "        if input_dic[i].\n",
    "    op=pd.merge(pd.merge(A,B,on=\"Security\"),C,on=\"Security\").drop(columns=[\"Date_B\",\"Date_C\"]).rename(columns={'Date_A':'Date'})\n",
    "    result=op[(op[\"Price_A\"]!=op[\"Price_B\"])|\n",
    "        (op[\"Price_C\"]!=op[\"Price_B\"])|\n",
    "       (op[\"Price_A\"]!=op[\"Price_B\"])]\n"
   ]
  }
 ],
 "metadata": {
  "kernelspec": {
   "display_name": "Python 3",
   "language": "python",
   "name": "python3"
  },
  "language_info": {
   "codemirror_mode": {
    "name": "ipython",
    "version": 3
   },
   "file_extension": ".py",
   "mimetype": "text/x-python",
   "name": "python",
   "nbconvert_exporter": "python",
   "pygments_lexer": "ipython3",
   "version": "3.6.4"
  }
 },
 "nbformat": 4,
 "nbformat_minor": 2
}
