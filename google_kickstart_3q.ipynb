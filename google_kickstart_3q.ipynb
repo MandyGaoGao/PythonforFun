{
 "cells": [
  {
   "cell_type": "code",
   "execution_count": 21,
   "metadata": {},
   "outputs": [
    {
     "name": "stdout",
     "output_type": "stream",
     "text": [
      "3\n",
      "11 1 2\n",
      "8\n",
      "2 3\n",
      "11 11 11\n",
      "1 2 3 4 5 6 7 8 9 10 11\n",
      "1 2 3 4 5 6 7 8 9 10 11\n",
      "1000 6 1\n",
      "4 8 15 16 23 42\n",
      "1\n",
      "Case #0: 7\n",
      "Case #1: 0\n",
      "Case #2: 994\n"
     ]
    }
   ],
   "source": [
    "def get_sum(case_num,N,torn_ls,reader_ls):\n",
    "    read_sum=0\n",
    "    for i in reader_ls:\n",
    "        read_sum+=int(N)//int(i)\n",
    "        for j in torn_ls:\n",
    "            if int(j)%int(i)==0:\n",
    "                read_sum-=1\n",
    "    print(\"Case #\"+str(case_num)+\": \"+str(read_sum))\n",
    "x = input()\n",
    "no_test=int(x)\n",
    "xl=[]\n",
    "for i in range(no_test*3):\n",
    "    y=input()\n",
    "    xl.append(y)\n",
    "for i in range(no_test):\n",
    "    newl=xl[(i*3):((i+1)*3)]\n",
    "    N=newl[0].split(\" \")[0]\n",
    "    torn_ls=newl[1].split(\" \")\n",
    "    reader_ls=newl[2].split(\" \")\n",
    "    get_sum(i,N,torn_ls,reader_ls)\n",
    "    \n",
    "    \n"
   ]
  },
  {
   "cell_type": "code",
   "execution_count": null,
   "metadata": {},
   "outputs": [],
   "source": [
    "#(1,N) M torn out\n",
    "# Q readers R multiple Ri not M\n",
    "# sum of pagesby each reader\n",
    "\n",
    "# N M Q; {Pi};{Ri}\n",
    "x=input()"
   ]
  },
  {
   "cell_type": "code",
   "execution_count": null,
   "metadata": {},
   "outputs": [],
   "source": [
    "#N int --> array ith row-->Ai\n",
    "#(A1 xor k)+(A2 xor k)+(A3 xor k)"
   ]
  },
  {
   "cell_type": "code",
   "execution_count": 36,
   "metadata": {},
   "outputs": [],
   "source": [
    "#def get_sum1(test_no,M,als)\n",
    "\n",
    "\n",
    "def get_total(k,M,als):\n",
    "    total=0\n",
    "    for i in als:\n",
    "        total+=int(i)^k\n",
    "    if total<=int(M):\n",
    "        return True\n",
    "    else:\n",
    "        return False\n",
    "k=0\n",
    "count=0\n",
    "while count<=5:\n",
    "    if get_total(k,M,als)==True:\n",
    "        newk=k\n",
    "        k+=1\n",
    "    else:\n",
    "        count+=1\n",
    "        k+=1"
   ]
  },
  {
   "cell_type": "code",
   "execution_count": 37,
   "metadata": {},
   "outputs": [
    {
     "data": {
      "text/plain": [
       "12"
      ]
     },
     "execution_count": 37,
     "metadata": {},
     "output_type": "execute_result"
    }
   ],
   "source": [
    "newk"
   ]
  },
  {
   "cell_type": "code",
   "execution_count": 45,
   "metadata": {},
   "outputs": [
    {
     "name": "stdout",
     "output_type": "stream",
     "text": [
      "4\n",
      "2 27\n",
      "8 2 4\n",
      "4 45\n",
      "30 0 4 11\n",
      "1 0\n",
      "100\n",
      "6 2\n",
      "5 5 1 5 1 0\n",
      "\n",
      "Case #1: 12\n",
      "\n",
      "Case #2: 8\n",
      "\n",
      "Case #3: 100\n",
      "\n",
      "Case #4: -1\n"
     ]
    }
   ],
   "source": [
    "def get_total(k,M,als):\n",
    "    total=0\n",
    "    for i in als:\n",
    "        total+=int(i)^k\n",
    "    if total<=int(M):\n",
    "        return True\n",
    "    else:\n",
    "        return False\n",
    "def get_result(M,als):\n",
    "    k=0\n",
    "    count=0\n",
    "    newk=-1\n",
    "    while count<=int(max(als)+100):\n",
    "        if get_total(k,M,als)==True:\n",
    "            newk=k\n",
    "            k+=1\n",
    "        else:\n",
    "            count+=1\n",
    "            k+=1\n",
    "    print()\n",
    "    return newk\n",
    "        \n",
    "x = input()\n",
    "no_test=int(x)\n",
    "xl=[]\n",
    "for i in range(no_test*2):\n",
    "    y=input()\n",
    "    xl.append(y)\n",
    "for i in range(no_test):\n",
    "    newl=xl[(i*2):((i+1)*2)]\n",
    "    M=newl[0].split(\" \")[1]\n",
    "    als=newl[1].split(\" \")\n",
    "    result=get_result(M,als)\n",
    "    print(\"Case #\"+str(i+1)+\": \"+str(result))"
   ]
  },
  {
   "cell_type": "code",
   "execution_count": null,
   "metadata": {},
   "outputs": [],
   "source": [
    "# A B (N shifts at least 1 need to work)\n",
    "#both of them receive at least H appy\n",
    "# no. assignment\n",
    "#(T;N,H mini required;{Na};{Nb};)"
   ]
  },
  {
   "cell_type": "code",
   "execution_count": 40,
   "metadata": {},
   "outputs": [
    {
     "name": "stdout",
     "output_type": "stream",
     "text": [
      "[[1 1]\n",
      " [1 1]]\n",
      "18\n",
      "[[0 1]\n",
      " [1 1]]\n",
      "15\n",
      "[[1 0]\n",
      " [1 1]]\n",
      "12\n",
      "3\n"
     ]
    }
   ],
   "source": [
    "import numpy as np\n",
    "def get_re(Na,Nb,N,H):\n",
    "    happy=np.array([Na,Nb])\n",
    "    total=[]\n",
    "    for k in range(int(N)):\n",
    "        ls=[]\n",
    "        for i in range(k):\n",
    "            ls.append(0)\n",
    "        for i in range(int(N)-k):\n",
    "            ls.append(1)\n",
    "        newls=list(itertools.permutations(ls,int(N)))\n",
    "        newls = list(dict.fromkeys(newls))\n",
    "        for i in newls:\n",
    "            total.append(i)\n",
    "        total = list(dict.fromkeys(total))\n",
    "    #print(total)\n",
    "    result=0\n",
    "    for i in total:\n",
    "        for j in total:\n",
    "            a=np.array([i,j])\n",
    "            print(a)\n",
    "            if (np.count_nonzero(i)!=0 for i in a.T):\n",
    "                re=np.sum(a.dot(happy))\n",
    "                print(re)\n",
    "                if (re)>=int(H):\n",
    "                    result+=1\n",
    "                    break\n",
    "                    #print(a)\n",
    "    return result\n",
    "import itertools\n",
    "x = input()\n",
    "no_test=int(x)\n",
    "xl=[]\n",
    "for i in range(no_test*3):\n",
    "    y=input()\n",
    "    xl.append(y)\n",
    "for i in range(no_test):\n",
    "    newl=xl[(i*3):((i+1)*3)]\n",
    "    [N,H]=newl[0].split(\" \")\n",
    "    Na=list(int(i) for i in newl[1].split(\" \"))\n",
    "    Nb=list(int(i) for i in newl[2].split(\" \"))\n",
    "    result=get_result(M,als)\n",
    "    print(\"Case #\"+str(i+1)+\": \"+str(result))"
   ]
  }
 ],
 "metadata": {
  "kernelspec": {
   "display_name": "Python 3",
   "language": "python",
   "name": "python3"
  },
  "language_info": {
   "codemirror_mode": {
    "name": "ipython",
    "version": 3
   },
   "file_extension": ".py",
   "mimetype": "text/x-python",
   "name": "python",
   "nbconvert_exporter": "python",
   "pygments_lexer": "ipython3",
   "version": "3.6.4"
  }
 },
 "nbformat": 4,
 "nbformat_minor": 2
}
