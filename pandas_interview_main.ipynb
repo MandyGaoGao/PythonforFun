{
 "cells": [
  {
   "cell_type": "code",
   "execution_count": 5,
   "metadata": {},
   "outputs": [
    {
     "name": "stdout",
     "output_type": "stream",
     "text": [
      "done\n"
     ]
    }
   ],
   "source": [
    "import pandas as pd\n",
    "import numpy as np\n",
    "import os\n",
    "############################ data clean\n",
    "def basic():\n",
    "    #read all docs\n",
    "    A=pd.read_csv(r\".\\input_alabaster\\alabaster_20160101_tradelist.csv\")\n",
    "    B=pd.read_csv(r\".\\input_bernstein\\bernstein_TradeInputList_160101.csv\")\n",
    "    C=pd.read_csv(r\".\\input_comwealth\\trades_comwealth_jan2016.csv\")\n",
    "    M=pd.read_csv(r\".\\mapping\\MappingTable.csv\")\n",
    "\n",
    "    #define col to drop\n",
    "    A_to_drop=[\"PriceEUR\",\"MktAdjFactor\",\"AllocationID\",\"OrderQty\",\"FilledQty\",\"FinancingSpread\"]\n",
    "    B_to_drop=[\"MTMValue\",\"Currency\",\"Financing\",\"SubAccount\"]\n",
    "\n",
    "    #drop the cols\n",
    "    A=A.drop(columns=A_to_drop)\n",
    "    B=B.drop(columns=B_to_drop)\n",
    "\n",
    "    #create security map dics\n",
    "    dictA=dict(zip(M.BB_ID,M.Security))## BBID-->Security\n",
    "    dictB=dict(zip(M.GENERIC,M.Security))## GenericTicker\t-->Security\n",
    "    dictC=dict(zip(M.RIC,M.Security))## Ric-->Security\n",
    "\n",
    "    #replace based on dics\n",
    "    A=A.replace({\"BB_ID\": dictA})\n",
    "    B=B.replace({\"GenericTicker\": dictB})\n",
    "    C=C.replace({\"RIC$Code\": dictC})\n",
    "\n",
    "    #rename the cols\n",
    "    A.rename(columns={'BB_ID':'Security',\"PriceUSD\":\"Price_A\",\n",
    "                      \"Qty\":\"Quantity_A\", \"Beta\":\"Beta_A\",\"Date\":\"Date_A\"\n",
    "                     }, inplace=True)\n",
    "    B.rename(columns={'GenericTicker':'Security',\"Price\":\"Price_B\",\n",
    "                      \"Quantity\":\"Quantity_B\", \"Beta\":\"Beta_B\",\"Date\":\"Date_B\"\n",
    "                     }, inplace=True)\n",
    "    C.rename(columns={'RIC$Code':'Security',\"Executed$Price\":\"Price_C\",\n",
    "                      \"Executed$Quantity\":\"Quantity_C\", \"Beta$Hundreds\":\"Beta_C\",\"Trade$Date\":\"Date_C\"\n",
    "                     }, inplace=True)\n",
    "\n",
    "    #format date\n",
    "    A.Date_A=pd.to_datetime(A.Date_A)\n",
    "\n",
    "    ########################## data process\n",
    "    #operation\n",
    "    op=pd.merge(pd.merge(A,B,on=\"Security\"),C,on=\"Security\").drop(columns=[\"Date_B\",\"Date_C\"]).rename(columns={'Date_A':'Date'})\n",
    "    result=op[(op[\"Price_A\"]!=op[\"Price_B\"])|\n",
    "        (op[\"Price_C\"]!=op[\"Price_B\"])|\n",
    "       (op[\"Price_A\"]!=op[\"Price_B\"])]\n",
    "\n",
    "    #trade\n",
    "    op[\"AveragePrice\"]=(op[\"Price_A\"]+op[\"Price_B\"]+op[\"Price_C\"])/3\n",
    "    op[\"TotalQuantity\"]=(op[\"Quantity_A\"]+op[\"Quantity_B\"]+op[\"Quantity_C\"])/3\n",
    "    op[\"MaxBeta\"]=op[[\"Beta_A\",\"Beta_B\",\"Beta_C\"]].max(axis=1)\n",
    "\n",
    "    #########################data ouput\n",
    "    outdir = r'.//output-operations'\n",
    "    outdir1 = r'.//output-trading'\n",
    "    outname=\"output.csv\"\n",
    "    if not os.path.exists(outdir):\n",
    "        os.mkdir(outdir)\n",
    "    if not os.path.exists(outdir1):\n",
    "        os.mkdir(outdir1)\n",
    "\n",
    "    fullname = os.path.join(outdir, outname)   \n",
    "    fullname1 = os.path.join(outdir1, outname)    \n",
    "\n",
    "    result.to_csv(fullname)\n",
    "    op.to_csv(fullname1)\n",
    "    \n",
    "    print(\"done\")\n",
    "\n",
    "def main():\n",
    "    basic()\n",
    "\n",
    "if __name__==\"__main__\":\n",
    "    main()"
   ]
  },
  {
   "cell_type": "code",
   "execution_count": null,
   "metadata": {},
   "outputs": [],
   "source": []
  }
 ],
 "metadata": {
  "kernelspec": {
   "display_name": "Python 3",
   "language": "python",
   "name": "python3"
  },
  "language_info": {
   "codemirror_mode": {
    "name": "ipython",
    "version": 3
   },
   "file_extension": ".py",
   "mimetype": "text/x-python",
   "name": "python",
   "nbconvert_exporter": "python",
   "pygments_lexer": "ipython3",
   "version": "3.6.4"
  }
 },
 "nbformat": 4,
 "nbformat_minor": 2
}
