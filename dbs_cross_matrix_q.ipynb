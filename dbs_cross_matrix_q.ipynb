{
 "cells": [
  {
   "cell_type": "code",
   "execution_count": 1,
   "metadata": {},
   "outputs": [],
   "source": [
    "#odd num n sides square\n",
    "import numpy as np\n",
    "z=np.array([[0,0,1,0,0],[0,0,1,1,0],[1,1,1,1,1],[0,0,1,0,0],[0,0,1,0,0]])\n",
    "y=np.array([[0,0,0,1,0,0,0,0],[0,0,0,1,0,0,0,0],[0,0,0,1,0,0,0,0],[1,1,1,1,1,1,1,1],\n",
    "            [0,0,0,1,0,0,0,0],[0,0,0,1,0,0,1,0],[0,0,0,1,0,1,1,1],[0,0,0,1,0,0,1,0]])          "
   ]
  },
  {
   "cell_type": "code",
   "execution_count": 2,
   "metadata": {},
   "outputs": [
    {
     "data": {
      "text/plain": [
       "array([[0, 0, 1, 0, 0],\n",
       "       [0, 0, 1, 1, 0],\n",
       "       [1, 1, 1, 1, 1],\n",
       "       [0, 0, 1, 0, 0],\n",
       "       [0, 0, 1, 0, 0]])"
      ]
     },
     "execution_count": 2,
     "metadata": {},
     "output_type": "execute_result"
    }
   ],
   "source": [
    "z"
   ]
  },
  {
   "cell_type": "code",
   "execution_count": 3,
   "metadata": {},
   "outputs": [
    {
     "data": {
      "text/plain": [
       "array([[0, 0, 0, 1, 0, 0, 0, 0],\n",
       "       [0, 0, 0, 1, 0, 0, 0, 0],\n",
       "       [0, 0, 0, 1, 0, 0, 0, 0],\n",
       "       [1, 1, 1, 1, 1, 1, 1, 1],\n",
       "       [0, 0, 0, 1, 0, 0, 0, 0],\n",
       "       [0, 0, 0, 1, 0, 0, 1, 0],\n",
       "       [0, 0, 0, 1, 0, 1, 1, 1],\n",
       "       [0, 0, 0, 1, 0, 0, 1, 0]])"
      ]
     },
     "execution_count": 3,
     "metadata": {},
     "output_type": "execute_result"
    }
   ],
   "source": [
    "y"
   ]
  },
  {
   "cell_type": "code",
   "execution_count": 10,
   "metadata": {},
   "outputs": [
    {
     "name": "stdout",
     "output_type": "stream",
     "text": [
      "3\n",
      "010\n",
      "111\n",
      "010\n",
      "3 010 111 010\n",
      "1\n"
     ]
    }
   ],
   "source": [
    "import numpy as np\n",
    "def test(z):\n",
    "    zs=len(z)\n",
    "    zm=zs//2\n",
    "    for i in range(zs):\n",
    "        for j in range(zs):\n",
    "            if i==zm or j==zm:\n",
    "                if z[i][j]!=1:\n",
    "                    #print(i,j,z[i][j])\n",
    "                    return False\n",
    "            else:\n",
    "                if z[i][j]!=0:\n",
    "                    #print(i,j,z[i][j])\n",
    "                    return False\n",
    "    return True\n",
    "\n",
    "def test2(y,length):\n",
    "    count=0\n",
    "    for i in range(length):\n",
    "        for j in range(length):\n",
    "            s=min(length-i,length-j)\n",
    "            if s>=3:\n",
    "                for k in range(3,s+1):\n",
    "                    if k%2!=0:\n",
    "                        A=y[i:i+k,j:j+k]\n",
    "                        if test(A)==True:\n",
    "                            count+=1\n",
    "                            \n",
    "    return count\n",
    "def arr(x):\n",
    "    l=x.split(' ')#change to \"\\n\" in channel\n",
    "    N=int(l[0])\n",
    "    l1=np.array(list(int(i) for i in l[1]))\n",
    "    for j in range(2,N+1):\n",
    "        l2=np.array(list(int(i) for i in l[j]))\n",
    "        l1=np.vstack((l1,l2))\n",
    "    return N,l1\n",
    "def main():\n",
    "    x = input()\n",
    "    x_n=int(x)\n",
    "    for i in range(x_n):\n",
    "        y=input()\n",
    "        x+=\" \"+y\n",
    "    print(x)\n",
    "    N,A=arr(x)\n",
    "    print(test2(A,N))\n",
    "\n",
    "  \n",
    "\n",
    "\n",
    "if __name__ == '__main__':\n",
    "    main()"
   ]
  },
  {
   "cell_type": "code",
   "execution_count": 17,
   "metadata": {},
   "outputs": [
    {
     "ename": "AttributeError",
     "evalue": "module 'math' has no attribute 'mod'",
     "output_type": "error",
     "traceback": [
      "\u001b[1;31m---------------------------------------------------------------------------\u001b[0m",
      "\u001b[1;31mAttributeError\u001b[0m                            Traceback (most recent call last)",
      "\u001b[1;32m<ipython-input-17-078d346f8cb9>\u001b[0m in \u001b[0;36m<module>\u001b[1;34m()\u001b[0m\n\u001b[0;32m      1\u001b[0m \u001b[1;32mimport\u001b[0m \u001b[0mmath\u001b[0m\u001b[1;33m\u001b[0m\u001b[0m\n\u001b[1;32m----> 2\u001b[1;33m \u001b[0mmath\u001b[0m\u001b[1;33m.\u001b[0m\u001b[0mmod\u001b[0m\u001b[1;33m(\u001b[0m\u001b[1;36m4.2\u001b[0m\u001b[1;33m,\u001b[0m\u001b[1;36m2.1\u001b[0m\u001b[1;33m)\u001b[0m\u001b[1;33m\u001b[0m\u001b[0m\n\u001b[0m",
      "\u001b[1;31mAttributeError\u001b[0m: module 'math' has no attribute 'mod'"
     ]
    }
   ],
   "source": [
    "import math\n",
    "math.mod(4.2,2.1)"
   ]
  },
  {
   "cell_type": "code",
   "execution_count": null,
   "metadata": {},
   "outputs": [],
   "source": [
    "x*y=30\n",
    "x-2 y-2 =12\n",
    "xy 4 -4xy=12\n",
    "132/\n",
    "\n",
    "10---5--c s 3"
   ]
  }
 ],
 "metadata": {
  "kernelspec": {
   "display_name": "Python 3",
   "language": "python",
   "name": "python3"
  },
  "language_info": {
   "codemirror_mode": {
    "name": "ipython",
    "version": 3
   },
   "file_extension": ".py",
   "mimetype": "text/x-python",
   "name": "python",
   "nbconvert_exporter": "python",
   "pygments_lexer": "ipython3",
   "version": "3.6.4"
  }
 },
 "nbformat": 4,
 "nbformat_minor": 2
}
